{
 "cells": [
  {
   "cell_type": "markdown",
   "metadata": {},
   "source": [
    "# Business Understanding"
   ]
  },
  {
   "cell_type": "markdown",
   "metadata": {},
   "source": [
    "## Business Objective"
   ]
  },
  {
   "cell_type": "markdown",
   "metadata": {},
   "source": [
    "## Executive Summary"
   ]
  },
  {
   "cell_type": "markdown",
   "metadata": {
    "ExecuteTime": {
     "end_time": "2021-04-06T17:19:54.256492Z",
     "start_time": "2021-04-06T17:19:54.249645Z"
    }
   },
   "source": [
    "# Data Engineering"
   ]
  },
  {
   "cell_type": "markdown",
   "metadata": {},
   "source": [
    "## Import Libraries"
   ]
  },
  {
   "cell_type": "code",
   "execution_count": 40,
   "metadata": {
    "ExecuteTime": {
     "end_time": "2021-04-15T20:04:49.119294Z",
     "start_time": "2021-04-15T20:04:48.525487Z"
    }
   },
   "outputs": [],
   "source": [
    "# import libraries required to load, transform, analyze and plot data\n",
    "import numpy as np\n",
    "import pandas as pd\n",
    "import matplotlib.pyplot as plt\n",
    "%matplotlib inline\n",
    "import seaborn as sns\n",
    "sns.set(context='paper', style='darkgrid', rc={'figure.facecolor':'white'}, font_scale=1.2)\n",
    "\n",
    "from sklearn.pipeline import Pipeline\n",
    "from sklearn.model_selection import train_test_split, GridSearchCV, StratifiedKFold\n",
    "from sklearn.preprocessing import OneHotEncoder, FunctionTransformer\n",
    "from sklearn.preprocessing import StandardScaler, MinMaxScaler\n",
    "from sklearn.metrics import accuracy_score, precision_score, recall_score, make_scorer\n",
    "from sklearn.metrics import plot_confusion_matrix, confusion_matrix, roc_curve, auc, f1_score, roc_auc_score\n",
    "from sklearn import tree\n",
    "from sklearn.linear_model import LogisticRegression\n",
    "from sklearn.neighbors import KNeighborsClassifier\n",
    "from sklearn.ensemble import RandomForestClassifier\n",
    "from sklearn.dummy import DummyClassifier\n",
    "import statsmodels.api as sm\n",
    "\n",
    "import warnings\n",
    "warnings.filterwarnings('ignore')"
   ]
  },
  {
   "cell_type": "code",
   "execution_count": 2,
   "metadata": {
    "ExecuteTime": {
     "end_time": "2021-04-15T13:51:16.966361Z",
     "start_time": "2021-04-15T13:51:16.964291Z"
    }
   },
   "outputs": [],
   "source": [
    "# remove scientific notation and restrictions on df rows/columns display\n",
    "pd.options.display.float_format = '{:,.3f}'.format\n",
    "pd.set_option('display.max_columns', None)\n",
    "pd.set_option('max_rows', 200)\n",
    "pd.set_option('display.max_colwidth', 100)"
   ]
  },
  {
   "cell_type": "markdown",
   "metadata": {},
   "source": [
    "## Data Dictionary"
   ]
  },
  {
   "cell_type": "markdown",
   "metadata": {},
   "source": [
    "Data Source: IBM Cognos Telco Customer Churn Dataset\n",
    "\n",
    "https://www.kaggle.com/yeanzc/telco-customer-churn-ibm-dataset\n",
    "\n",
    "7043 observations with 33 variables"
   ]
  },
  {
   "cell_type": "markdown",
   "metadata": {},
   "source": [
    "Column Definitions:\n",
    "\n",
    "- CustomerID: A unique ID that identifies each customer.\n",
    "- Count: A value used in reporting/dashboarding to sum up the number of customers in a filtered set.\n",
    "- Country: The country of the customer’s primary residence.\n",
    "- State: The state of the customer’s primary residence.\n",
    "- City: The city of the customer’s primary residence.\n",
    "- Zip Code: The zip code of the customer’s primary residence.\n",
    "- Lat Long: The combined latitude and longitude of the customer’s primary residence.\n",
    "- Latitude: The latitude of the customer’s primary residence.\n",
    "- Longitude: The longitude of the customer’s primary residence.\n",
    "- Gender: The customer’s gender: Male, Female\n",
    "- Senior Citizen: Indicates if the customer is 65 or older: Yes, No\n",
    "- Partner: Indicate if the customer has a partner: Yes, No\n",
    "- Dependents: Indicates if the customer lives with any dependents: Yes, No. Dependents could be children, parents, grandparents, etc.\n",
    "- Tenure Months: Indicates the total amount of months that the customer has been with the company by the end of the quarter specified above.\n",
    "- Phone Service: Indicates if the customer subscribes to home phone service with the company: Yes, No\n",
    "- Multiple Lines: Indicates if the customer subscribes to multiple telephone lines with the company: Yes, No\n",
    "- Internet Service: Indicates if the customer subscribes to Internet service with the company: No, DSL, Fiber Optic, Cable.\n",
    "- Online Security: Indicates if the customer subscribes to an additional online security service provided by the company: Yes, No\n",
    "- Online Backup: Indicates if the customer subscribes to an additional online backup service provided by the company: Yes, No\n",
    "- Device Protection: Indicates if the customer subscribes to an additional device protection plan for their Internet equipment provided by the company: Yes, No\n",
    "- Tech Support: Indicates if the customer subscribes to an additional technical support plan from the company with reduced wait times: Yes, No\n",
    "- Streaming TV: Indicates if the customer uses their Internet service to stream television programing from a third party provider: Yes, No. The company does not charge an additional fee for this service.\n",
    "- Streaming Movies: Indicates if the customer uses their Internet service to stream movies from a third party provider: Yes, No. The company does not charge an additional fee for this service.\n",
    "- Contract: Indicates the customer’s current contract type: Month-to-Month, One Year, Two Year.\n",
    "- Paperless Billing: Indicates if the customer has chosen paperless billing: Yes, No\n",
    "- Payment Method: Indicates how the customer pays their bill: Bank Withdrawal, Credit Card, Mailed Check\n",
    "- Monthly Charge: Indicates the customer’s current total monthly charge for all their services from the company.\n",
    "- Total Charges: Indicates the customer’s total charges, calculated to the end of the quarter specified above.\n",
    "- Churn Label: Yes = the customer left the company this quarter. No = the customer remained with the company. Directly related to Churn Value.\n",
    "- Churn Value: 1 = the customer left the company this quarter. 0 = the customer remained with the company. Directly related to Churn Label.\n",
    "- Churn Score: A value from 0-100 that is calculated using the predictive tool IBM SPSS Modeler. The model incorporates multiple factors known to cause churn. The higher the score, the more likely the customer will churn.\n",
    "- CLTV: Customer Lifetime Value. A predicted CLTV is calculated using corporate formulas and existing data. The higher the value, the more valuable the customer. High value customers should be monitored for churn.\n",
    "- Churn Reason: A customer’s specific reason for leaving the company. Directly related to Churn Category."
   ]
  },
  {
   "cell_type": "markdown",
   "metadata": {},
   "source": [
    "## Dataframe Basics"
   ]
  },
  {
   "cell_type": "markdown",
   "metadata": {},
   "source": [
    "### Load File"
   ]
  },
  {
   "cell_type": "code",
   "execution_count": 3,
   "metadata": {
    "ExecuteTime": {
     "end_time": "2021-04-15T13:51:18.626994Z",
     "start_time": "2021-04-15T13:51:16.967404Z"
    }
   },
   "outputs": [
    {
     "data": {
      "text/html": [
       "<div>\n",
       "<style scoped>\n",
       "    .dataframe tbody tr th:only-of-type {\n",
       "        vertical-align: middle;\n",
       "    }\n",
       "\n",
       "    .dataframe tbody tr th {\n",
       "        vertical-align: top;\n",
       "    }\n",
       "\n",
       "    .dataframe thead th {\n",
       "        text-align: right;\n",
       "    }\n",
       "</style>\n",
       "<table border=\"1\" class=\"dataframe\">\n",
       "  <thead>\n",
       "    <tr style=\"text-align: right;\">\n",
       "      <th></th>\n",
       "      <th>CustomerID</th>\n",
       "      <th>Count</th>\n",
       "      <th>Country</th>\n",
       "      <th>State</th>\n",
       "      <th>City</th>\n",
       "      <th>Zip Code</th>\n",
       "      <th>Lat Long</th>\n",
       "      <th>Latitude</th>\n",
       "      <th>Longitude</th>\n",
       "      <th>Gender</th>\n",
       "      <th>Senior Citizen</th>\n",
       "      <th>Partner</th>\n",
       "      <th>Dependents</th>\n",
       "      <th>Tenure Months</th>\n",
       "      <th>Phone Service</th>\n",
       "      <th>Multiple Lines</th>\n",
       "      <th>Internet Service</th>\n",
       "      <th>Online Security</th>\n",
       "      <th>Online Backup</th>\n",
       "      <th>Device Protection</th>\n",
       "      <th>Tech Support</th>\n",
       "      <th>Streaming TV</th>\n",
       "      <th>Streaming Movies</th>\n",
       "      <th>Contract</th>\n",
       "      <th>Paperless Billing</th>\n",
       "      <th>Payment Method</th>\n",
       "      <th>Monthly Charges</th>\n",
       "      <th>Total Charges</th>\n",
       "      <th>Churn Label</th>\n",
       "      <th>Churn Value</th>\n",
       "      <th>Churn Score</th>\n",
       "      <th>CLTV</th>\n",
       "      <th>Churn Reason</th>\n",
       "    </tr>\n",
       "  </thead>\n",
       "  <tbody>\n",
       "    <tr>\n",
       "      <th>0</th>\n",
       "      <td>3668-QPYBK</td>\n",
       "      <td>1</td>\n",
       "      <td>United States</td>\n",
       "      <td>California</td>\n",
       "      <td>Los Angeles</td>\n",
       "      <td>90003</td>\n",
       "      <td>33.964131, -118.272783</td>\n",
       "      <td>33.964</td>\n",
       "      <td>-118.273</td>\n",
       "      <td>Male</td>\n",
       "      <td>No</td>\n",
       "      <td>No</td>\n",
       "      <td>No</td>\n",
       "      <td>2</td>\n",
       "      <td>Yes</td>\n",
       "      <td>No</td>\n",
       "      <td>DSL</td>\n",
       "      <td>Yes</td>\n",
       "      <td>Yes</td>\n",
       "      <td>No</td>\n",
       "      <td>No</td>\n",
       "      <td>No</td>\n",
       "      <td>No</td>\n",
       "      <td>Month-to-month</td>\n",
       "      <td>Yes</td>\n",
       "      <td>Mailed check</td>\n",
       "      <td>53.850</td>\n",
       "      <td>108.150</td>\n",
       "      <td>Yes</td>\n",
       "      <td>1</td>\n",
       "      <td>86</td>\n",
       "      <td>3239</td>\n",
       "      <td>Competitor made better offer</td>\n",
       "    </tr>\n",
       "    <tr>\n",
       "      <th>1</th>\n",
       "      <td>9237-HQITU</td>\n",
       "      <td>1</td>\n",
       "      <td>United States</td>\n",
       "      <td>California</td>\n",
       "      <td>Los Angeles</td>\n",
       "      <td>90005</td>\n",
       "      <td>34.059281, -118.30742</td>\n",
       "      <td>34.059</td>\n",
       "      <td>-118.307</td>\n",
       "      <td>Female</td>\n",
       "      <td>No</td>\n",
       "      <td>No</td>\n",
       "      <td>Yes</td>\n",
       "      <td>2</td>\n",
       "      <td>Yes</td>\n",
       "      <td>No</td>\n",
       "      <td>Fiber optic</td>\n",
       "      <td>No</td>\n",
       "      <td>No</td>\n",
       "      <td>No</td>\n",
       "      <td>No</td>\n",
       "      <td>No</td>\n",
       "      <td>No</td>\n",
       "      <td>Month-to-month</td>\n",
       "      <td>Yes</td>\n",
       "      <td>Electronic check</td>\n",
       "      <td>70.700</td>\n",
       "      <td>151.650</td>\n",
       "      <td>Yes</td>\n",
       "      <td>1</td>\n",
       "      <td>67</td>\n",
       "      <td>2701</td>\n",
       "      <td>Moved</td>\n",
       "    </tr>\n",
       "    <tr>\n",
       "      <th>2</th>\n",
       "      <td>9305-CDSKC</td>\n",
       "      <td>1</td>\n",
       "      <td>United States</td>\n",
       "      <td>California</td>\n",
       "      <td>Los Angeles</td>\n",
       "      <td>90006</td>\n",
       "      <td>34.048013, -118.293953</td>\n",
       "      <td>34.048</td>\n",
       "      <td>-118.294</td>\n",
       "      <td>Female</td>\n",
       "      <td>No</td>\n",
       "      <td>No</td>\n",
       "      <td>Yes</td>\n",
       "      <td>8</td>\n",
       "      <td>Yes</td>\n",
       "      <td>Yes</td>\n",
       "      <td>Fiber optic</td>\n",
       "      <td>No</td>\n",
       "      <td>No</td>\n",
       "      <td>Yes</td>\n",
       "      <td>No</td>\n",
       "      <td>Yes</td>\n",
       "      <td>Yes</td>\n",
       "      <td>Month-to-month</td>\n",
       "      <td>Yes</td>\n",
       "      <td>Electronic check</td>\n",
       "      <td>99.650</td>\n",
       "      <td>820.500</td>\n",
       "      <td>Yes</td>\n",
       "      <td>1</td>\n",
       "      <td>86</td>\n",
       "      <td>5372</td>\n",
       "      <td>Moved</td>\n",
       "    </tr>\n",
       "    <tr>\n",
       "      <th>3</th>\n",
       "      <td>7892-POOKP</td>\n",
       "      <td>1</td>\n",
       "      <td>United States</td>\n",
       "      <td>California</td>\n",
       "      <td>Los Angeles</td>\n",
       "      <td>90010</td>\n",
       "      <td>34.062125, -118.315709</td>\n",
       "      <td>34.062</td>\n",
       "      <td>-118.316</td>\n",
       "      <td>Female</td>\n",
       "      <td>No</td>\n",
       "      <td>Yes</td>\n",
       "      <td>Yes</td>\n",
       "      <td>28</td>\n",
       "      <td>Yes</td>\n",
       "      <td>Yes</td>\n",
       "      <td>Fiber optic</td>\n",
       "      <td>No</td>\n",
       "      <td>No</td>\n",
       "      <td>Yes</td>\n",
       "      <td>Yes</td>\n",
       "      <td>Yes</td>\n",
       "      <td>Yes</td>\n",
       "      <td>Month-to-month</td>\n",
       "      <td>Yes</td>\n",
       "      <td>Electronic check</td>\n",
       "      <td>104.800</td>\n",
       "      <td>3,046.050</td>\n",
       "      <td>Yes</td>\n",
       "      <td>1</td>\n",
       "      <td>84</td>\n",
       "      <td>5003</td>\n",
       "      <td>Moved</td>\n",
       "    </tr>\n",
       "    <tr>\n",
       "      <th>4</th>\n",
       "      <td>0280-XJGEX</td>\n",
       "      <td>1</td>\n",
       "      <td>United States</td>\n",
       "      <td>California</td>\n",
       "      <td>Los Angeles</td>\n",
       "      <td>90015</td>\n",
       "      <td>34.039224, -118.266293</td>\n",
       "      <td>34.039</td>\n",
       "      <td>-118.266</td>\n",
       "      <td>Male</td>\n",
       "      <td>No</td>\n",
       "      <td>No</td>\n",
       "      <td>Yes</td>\n",
       "      <td>49</td>\n",
       "      <td>Yes</td>\n",
       "      <td>Yes</td>\n",
       "      <td>Fiber optic</td>\n",
       "      <td>No</td>\n",
       "      <td>Yes</td>\n",
       "      <td>Yes</td>\n",
       "      <td>No</td>\n",
       "      <td>Yes</td>\n",
       "      <td>Yes</td>\n",
       "      <td>Month-to-month</td>\n",
       "      <td>Yes</td>\n",
       "      <td>Bank transfer (automatic)</td>\n",
       "      <td>103.700</td>\n",
       "      <td>5,036.300</td>\n",
       "      <td>Yes</td>\n",
       "      <td>1</td>\n",
       "      <td>89</td>\n",
       "      <td>5340</td>\n",
       "      <td>Competitor had better devices</td>\n",
       "    </tr>\n",
       "  </tbody>\n",
       "</table>\n",
       "</div>"
      ],
      "text/plain": [
       "   CustomerID  Count        Country       State         City  Zip Code  \\\n",
       "0  3668-QPYBK      1  United States  California  Los Angeles     90003   \n",
       "1  9237-HQITU      1  United States  California  Los Angeles     90005   \n",
       "2  9305-CDSKC      1  United States  California  Los Angeles     90006   \n",
       "3  7892-POOKP      1  United States  California  Los Angeles     90010   \n",
       "4  0280-XJGEX      1  United States  California  Los Angeles     90015   \n",
       "\n",
       "                 Lat Long  Latitude  Longitude  Gender Senior Citizen Partner  \\\n",
       "0  33.964131, -118.272783    33.964   -118.273    Male             No      No   \n",
       "1   34.059281, -118.30742    34.059   -118.307  Female             No      No   \n",
       "2  34.048013, -118.293953    34.048   -118.294  Female             No      No   \n",
       "3  34.062125, -118.315709    34.062   -118.316  Female             No     Yes   \n",
       "4  34.039224, -118.266293    34.039   -118.266    Male             No      No   \n",
       "\n",
       "  Dependents  Tenure Months Phone Service Multiple Lines Internet Service  \\\n",
       "0         No              2           Yes             No              DSL   \n",
       "1        Yes              2           Yes             No      Fiber optic   \n",
       "2        Yes              8           Yes            Yes      Fiber optic   \n",
       "3        Yes             28           Yes            Yes      Fiber optic   \n",
       "4        Yes             49           Yes            Yes      Fiber optic   \n",
       "\n",
       "  Online Security Online Backup Device Protection Tech Support Streaming TV  \\\n",
       "0             Yes           Yes                No           No           No   \n",
       "1              No            No                No           No           No   \n",
       "2              No            No               Yes           No          Yes   \n",
       "3              No            No               Yes          Yes          Yes   \n",
       "4              No           Yes               Yes           No          Yes   \n",
       "\n",
       "  Streaming Movies        Contract Paperless Billing  \\\n",
       "0               No  Month-to-month               Yes   \n",
       "1               No  Month-to-month               Yes   \n",
       "2              Yes  Month-to-month               Yes   \n",
       "3              Yes  Month-to-month               Yes   \n",
       "4              Yes  Month-to-month               Yes   \n",
       "\n",
       "              Payment Method  Monthly Charges Total Charges Churn Label  \\\n",
       "0               Mailed check           53.850       108.150         Yes   \n",
       "1           Electronic check           70.700       151.650         Yes   \n",
       "2           Electronic check           99.650       820.500         Yes   \n",
       "3           Electronic check          104.800     3,046.050         Yes   \n",
       "4  Bank transfer (automatic)          103.700     5,036.300         Yes   \n",
       "\n",
       "   Churn Value  Churn Score  CLTV                   Churn Reason  \n",
       "0            1           86  3239   Competitor made better offer  \n",
       "1            1           67  2701                          Moved  \n",
       "2            1           86  5372                          Moved  \n",
       "3            1           84  5003                          Moved  \n",
       "4            1           89  5340  Competitor had better devices  "
      ]
     },
     "execution_count": 3,
     "metadata": {},
     "output_type": "execute_result"
    }
   ],
   "source": [
    "# load primary source file to df\n",
    "tc = pd.read_excel('data/Telco_customer_churn.xlsx', sheet_name='Telco_Churn')\n",
    "tc.head()"
   ]
  },
  {
   "cell_type": "code",
   "execution_count": 4,
   "metadata": {
    "ExecuteTime": {
     "end_time": "2021-04-15T13:51:18.631885Z",
     "start_time": "2021-04-15T13:51:18.627924Z"
    }
   },
   "outputs": [],
   "source": [
    "# drop columns not required or duplicative\n",
    "drop_cols = ['Latitude', 'Longitude', 'Churn Label']\n",
    "tc.drop(drop_cols, axis=1, inplace=True)"
   ]
  },
  {
   "cell_type": "code",
   "execution_count": 5,
   "metadata": {
    "ExecuteTime": {
     "end_time": "2021-04-15T13:51:18.634858Z",
     "start_time": "2021-04-15T13:51:18.632744Z"
    }
   },
   "outputs": [],
   "source": [
    "# convert column names to lower case without underscore\n",
    "tc.columns = tc.columns.str.lower().str.replace(' ','_')"
   ]
  },
  {
   "cell_type": "markdown",
   "metadata": {
    "ExecuteTime": {
     "end_time": "2021-04-06T17:53:11.581535Z",
     "start_time": "2021-04-06T17:53:11.546452Z"
    }
   },
   "source": [
    "### Info"
   ]
  },
  {
   "cell_type": "code",
   "execution_count": 6,
   "metadata": {
    "ExecuteTime": {
     "end_time": "2021-04-15T13:51:18.650280Z",
     "start_time": "2021-04-15T13:51:18.636916Z"
    }
   },
   "outputs": [
    {
     "name": "stdout",
     "output_type": "stream",
     "text": [
      "<class 'pandas.core.frame.DataFrame'>\n",
      "RangeIndex: 7043 entries, 0 to 7042\n",
      "Data columns (total 30 columns):\n",
      " #   Column             Non-Null Count  Dtype  \n",
      "---  ------             --------------  -----  \n",
      " 0   customerid         7043 non-null   object \n",
      " 1   count              7043 non-null   int64  \n",
      " 2   country            7043 non-null   object \n",
      " 3   state              7043 non-null   object \n",
      " 4   city               7043 non-null   object \n",
      " 5   zip_code           7043 non-null   int64  \n",
      " 6   lat_long           7043 non-null   object \n",
      " 7   gender             7043 non-null   object \n",
      " 8   senior_citizen     7043 non-null   object \n",
      " 9   partner            7043 non-null   object \n",
      " 10  dependents         7043 non-null   object \n",
      " 11  tenure_months      7043 non-null   int64  \n",
      " 12  phone_service      7043 non-null   object \n",
      " 13  multiple_lines     7043 non-null   object \n",
      " 14  internet_service   7043 non-null   object \n",
      " 15  online_security    7043 non-null   object \n",
      " 16  online_backup      7043 non-null   object \n",
      " 17  device_protection  7043 non-null   object \n",
      " 18  tech_support       7043 non-null   object \n",
      " 19  streaming_tv       7043 non-null   object \n",
      " 20  streaming_movies   7043 non-null   object \n",
      " 21  contract           7043 non-null   object \n",
      " 22  paperless_billing  7043 non-null   object \n",
      " 23  payment_method     7043 non-null   object \n",
      " 24  monthly_charges    7043 non-null   float64\n",
      " 25  total_charges      7043 non-null   object \n",
      " 26  churn_value        7043 non-null   int64  \n",
      " 27  churn_score        7043 non-null   int64  \n",
      " 28  cltv               7043 non-null   int64  \n",
      " 29  churn_reason       1869 non-null   object \n",
      "dtypes: float64(1), int64(6), object(23)\n",
      "memory usage: 1.6+ MB\n"
     ]
    }
   ],
   "source": [
    "tc.info()"
   ]
  },
  {
   "cell_type": "markdown",
   "metadata": {},
   "source": [
    "**Notes on Info**\n",
    "- Only non-null issue on Churn Reason (26.5% churned)\n",
    "- Unexpected Data Types: Total Charges (s/b float)\n",
    "- Will convert indicator columns from text to 0/1"
   ]
  },
  {
   "cell_type": "code",
   "execution_count": 7,
   "metadata": {
    "ExecuteTime": {
     "end_time": "2021-04-15T13:51:18.657647Z",
     "start_time": "2021-04-15T13:51:18.651811Z"
    }
   },
   "outputs": [
    {
     "name": "stdout",
     "output_type": "stream",
     "text": [
      "0 duplicate CustomerIDs found\n"
     ]
    }
   ],
   "source": [
    "# check for duplicate customers\n",
    "dups = tc[tc.duplicated(subset=['customerid'])==True]\n",
    "print(f'{dups.shape[0]} duplicate CustomerIDs found')"
   ]
  },
  {
   "cell_type": "markdown",
   "metadata": {},
   "source": [
    "### Data Cleaning"
   ]
  },
  {
   "cell_type": "code",
   "execution_count": 8,
   "metadata": {
    "ExecuteTime": {
     "end_time": "2021-04-15T13:51:18.691640Z",
     "start_time": "2021-04-15T13:51:18.659013Z"
    }
   },
   "outputs": [
    {
     "name": "stdout",
     "output_type": "stream",
     "text": [
      "\n",
      "Value Counts | column = gender\n",
      "Male     0.505\n",
      "Female   0.495\n",
      "Name: gender, dtype: float64\n",
      "\n",
      "Value Counts | column = senior_citizen\n",
      "No    0.838\n",
      "Yes   0.162\n",
      "Name: senior_citizen, dtype: float64\n",
      "\n",
      "Value Counts | column = partner\n",
      "No    0.517\n",
      "Yes   0.483\n",
      "Name: partner, dtype: float64\n",
      "\n",
      "Value Counts | column = dependents\n",
      "No    0.769\n",
      "Yes   0.231\n",
      "Name: dependents, dtype: float64\n",
      "\n",
      "Value Counts | column = phone_service\n",
      "Yes   0.903\n",
      "No    0.097\n",
      "Name: phone_service, dtype: float64\n",
      "\n",
      "Value Counts | column = multiple_lines\n",
      "No                 0.481\n",
      "Yes                0.422\n",
      "No phone service   0.097\n",
      "Name: multiple_lines, dtype: float64\n",
      "\n",
      "Value Counts | column = internet_service\n",
      "Fiber optic   0.440\n",
      "DSL           0.344\n",
      "No            0.217\n",
      "Name: internet_service, dtype: float64\n",
      "\n",
      "Value Counts | column = online_security\n",
      "No                    0.497\n",
      "Yes                   0.287\n",
      "No internet service   0.217\n",
      "Name: online_security, dtype: float64\n",
      "\n",
      "Value Counts | column = online_backup\n",
      "No                    0.438\n",
      "Yes                   0.345\n",
      "No internet service   0.217\n",
      "Name: online_backup, dtype: float64\n",
      "\n",
      "Value Counts | column = device_protection\n",
      "No                    0.439\n",
      "Yes                   0.344\n",
      "No internet service   0.217\n",
      "Name: device_protection, dtype: float64\n",
      "\n",
      "Value Counts | column = tech_support\n",
      "No                    0.493\n",
      "Yes                   0.290\n",
      "No internet service   0.217\n",
      "Name: tech_support, dtype: float64\n",
      "\n",
      "Value Counts | column = streaming_tv\n",
      "No                    0.399\n",
      "Yes                   0.384\n",
      "No internet service   0.217\n",
      "Name: streaming_tv, dtype: float64\n",
      "\n",
      "Value Counts | column = streaming_movies\n",
      "No                    0.395\n",
      "Yes                   0.388\n",
      "No internet service   0.217\n",
      "Name: streaming_movies, dtype: float64\n",
      "\n",
      "Value Counts | column = contract\n",
      "Month-to-month   0.550\n",
      "Two year         0.241\n",
      "One year         0.209\n",
      "Name: contract, dtype: float64\n",
      "\n",
      "Value Counts | column = paperless_billing\n",
      "Yes   0.592\n",
      "No    0.408\n",
      "Name: paperless_billing, dtype: float64\n",
      "\n",
      "Value Counts | column = payment_method\n",
      "Electronic check            0.336\n",
      "Mailed check                0.229\n",
      "Bank transfer (automatic)   0.219\n",
      "Credit card (automatic)     0.216\n",
      "Name: payment_method, dtype: float64\n",
      "\n",
      "Value Counts | column = churn_value\n",
      "0   0.735\n",
      "1   0.265\n",
      "Name: churn_value, dtype: float64\n",
      "\n",
      "Value Counts | column = churn_reason\n",
      "NaN                                         0.735\n",
      "Attitude of support person                  0.027\n",
      "Competitor offered higher download speeds   0.027\n",
      "Competitor offered more data                0.023\n",
      "Don't know                                  0.022\n",
      "Competitor made better offer                0.020\n",
      "Attitude of service provider                0.019\n",
      "Competitor had better devices               0.018\n",
      "Network reliability                         0.015\n",
      "Product dissatisfaction                     0.014\n",
      "Price too high                              0.014\n",
      "Service dissatisfaction                     0.013\n",
      "Lack of self-service on Website             0.012\n",
      "Extra data charges                          0.008\n",
      "Moved                                       0.008\n",
      "Long distance charges                       0.006\n",
      "Lack of affordable download/upload speed    0.006\n",
      "Limited range of services                   0.006\n",
      "Poor expertise of phone support             0.003\n",
      "Poor expertise of online support            0.003\n",
      "Deceased                                    0.001\n",
      "Name: churn_reason, dtype: float64\n",
      "\n",
      "Value Counts | column = country\n",
      "United States   1.000\n",
      "Name: country, dtype: float64\n",
      "\n",
      "Value Counts | column = state\n",
      "California   1.000\n",
      "Name: state, dtype: float64\n",
      "\n",
      "Value Counts | column = city\n",
      "Los Angeles        0.043\n",
      "San Diego          0.021\n",
      "San Jose           0.016\n",
      "Sacramento         0.015\n",
      "San Francisco      0.015\n",
      "                    ... \n",
      "Escalon            0.001\n",
      "Westport           0.001\n",
      "Wilseyville        0.001\n",
      "South Lake Tahoe   0.001\n",
      "Castroville        0.001\n",
      "Name: city, Length: 1129, dtype: float64\n",
      "\n",
      "Value Counts | column = zip_code\n",
      "92139   0.001\n",
      "91306   0.001\n",
      "90602   0.001\n",
      "90502   0.001\n",
      "90402   0.001\n",
      "         ... \n",
      "92335   0.001\n",
      "95385   0.001\n",
      "92339   0.001\n",
      "92347   0.001\n",
      "95531   0.001\n",
      "Name: zip_code, Length: 1652, dtype: float64\n"
     ]
    }
   ],
   "source": [
    "# check value counts by column\n",
    "col_list = ['gender', 'senior_citizen', 'partner', 'dependents', \n",
    "            'phone_service', 'multiple_lines', 'internet_service', \n",
    "            'online_security', 'online_backup', 'device_protection', \n",
    "            'tech_support', 'streaming_tv', 'streaming_movies', 'contract', \n",
    "            'paperless_billing', 'payment_method', 'churn_value', \n",
    "            'churn_reason', 'country', 'state', 'city', 'zip_code']\n",
    "\n",
    "for col in col_list:\n",
    "     print(f'\\nValue Counts | column = {col}')\n",
    "     print(tc[col].value_counts(normalize=True, dropna=False))"
   ]
  },
  {
   "cell_type": "markdown",
   "metadata": {},
   "source": [
    "**Notes on Value Counts**\n",
    "- Change encoding to 0/1: Senior Citizen, Partner, Dependents, Phone Service, Multiple Lines, Internet Service, Online Security, Online Backup, Device Protection, Tech Support, Streaming TV, Streaming Movies, Paperless Billing\n",
    "- Create Group: Churn Reason (Customer Service, Product/Network, Pricing, Moved, Unknown)\n",
    "- One-Hot Coding: Gender, Contract, Payment Method, Churn Reason Group\n",
    "- All customers in California, USA \n",
    "- City distribution is wide, < 10% in major cities. Likely rural telecom co. Explore other geographic attributes.\n",
    "- Data values look clean, no corrupt values or other NaNs to deal with."
   ]
  },
  {
   "cell_type": "markdown",
   "metadata": {},
   "source": [
    "## Data Preparation"
   ]
  },
  {
   "cell_type": "markdown",
   "metadata": {},
   "source": [
    "###  replace_yes_no(X_df)"
   ]
  },
  {
   "cell_type": "code",
   "execution_count": 9,
   "metadata": {
    "ExecuteTime": {
     "end_time": "2021-04-15T13:51:18.697792Z",
     "start_time": "2021-04-15T13:51:18.694636Z"
    }
   },
   "outputs": [],
   "source": [
    "# replace yes-no variables with 0/1 for modeling\n",
    "def replace_yes_no(X_df):\n",
    "    \"\"\"Transforms an X features dataframe in place using list of \n",
    "    categorical columns to replace class values yes/no to boolean 0/1's.\n",
    "\n",
    "    Parameters:\n",
    "    X_df (pd.DataFrame)): train or test slice contains predictors\n",
    "\n",
    "    Returns:\n",
    "    X_df (pd.DataFrame)): same dataframe with replaced values\n",
    "    \"\"\"\n",
    "\n",
    "    bool_list = ['senior_citizen', 'partner', 'dependents', 'phone_service', \n",
    "                 'multiple_lines', 'internet_service', 'online_security', \n",
    "                 'online_backup', 'device_protection', 'tech_support', \n",
    "                 'streaming_tv', 'streaming_movies', 'paperless_billing']\n",
    "    for col in bool_list:\n",
    "        X_df.replace({col : { 'Yes' : 1, 'No' : 0, 'No phone service' : 0, \n",
    "                                 'No internet service' : 0}}, inplace=True)\n",
    "    return X_df"
   ]
  },
  {
   "cell_type": "markdown",
   "metadata": {},
   "source": [
    "### group_churn_reason(X_df)"
   ]
  },
  {
   "cell_type": "code",
   "execution_count": 10,
   "metadata": {
    "ExecuteTime": {
     "end_time": "2021-04-15T13:51:18.702828Z",
     "start_time": "2021-04-15T13:51:18.698983Z"
    }
   },
   "outputs": [],
   "source": [
    "# create churn reason group to simplify\n",
    "def group_churn_reason(X_df):\n",
    "    \"\"\"Creates new column by mapping churn reason to higher level parent on \n",
    "    an X features dataframe.\n",
    "\n",
    "    Parameters:\n",
    "    X_df (pd.DataFrame)): train or test slice contains predictors\n",
    "\n",
    "    Returns:\n",
    "    X_df (pd.DataFrame)): same dataframe with new column\n",
    "    \"\"\"\n",
    "    \n",
    "    reason_map = {'Attitude of support person' : 'Cust Service',\n",
    "                  'Attitude of service provider' : 'Cust Service', \n",
    "                  'Service dissatisfaction' : 'Cust Service', \n",
    "                  'Lack of self-service on Website' : 'Cust Service', \n",
    "                  'Poor expertise of phone support'  : 'Cust Service', \n",
    "                  'Poor expertise of online support' : 'Cust Service', \n",
    "                  'Competitor offered higher download speeds' : 'Product', \n",
    "                  'Competitor offered more data' : 'Product', \n",
    "                  'Competitor had better devices' : 'Product', \n",
    "                  'Network reliability' : 'Product', \n",
    "                  'Product dissatisfaction' : 'Product', \n",
    "                  'Limited range of services' : 'Product', \n",
    "                  'Competitor made better offer' : 'Pricing', \n",
    "                  'Price too high' : 'Pricing', \n",
    "                  'Extra data charges' : 'Pricing', \n",
    "                  'Long distance charges' : 'Pricing', \n",
    "                  'Lack of affordable download/upload speed' : 'Pricing', \n",
    "                  'Moved' : 'Moved', \n",
    "                  'Deceased' : 'Moved',\n",
    "                  'Don\\'t know' : 'Unknown'\n",
    "                 }\n",
    "\n",
    "    X_df['churn_rsn_grp'] = X_df.churn_reason.map(reason_map)\n",
    "    return X_df"
   ]
  },
  {
   "cell_type": "markdown",
   "metadata": {},
   "source": [
    "### impute_total_charges(X_df)"
   ]
  },
  {
   "cell_type": "code",
   "execution_count": 11,
   "metadata": {
    "ExecuteTime": {
     "end_time": "2021-04-15T13:51:18.708995Z",
     "start_time": "2021-04-15T13:51:18.705970Z"
    }
   },
   "outputs": [],
   "source": [
    "# take a look at total_charges\n",
    "def impute_total_charges(X_df):\n",
    "    \"\"\"Imputes column total_charges in cases where column is non-numeric or \n",
    "    blank, using tenure_months and monthly_charge to estimate.\n",
    "\n",
    "    Parameters:\n",
    "    X_df (pd.DataFrame)): train or test slice contains predictors\n",
    "\n",
    "    Returns:\n",
    "    X_df (pd.DataFrame)): same dataframe with imputed values\n",
    "    \"\"\"\n",
    "    \n",
    "    # impute total_charges as monthly x num months\n",
    "    i=0\n",
    "    for label, row in X_df.iterrows():\n",
    "        if not isinstance(row['total_charges'], (int, float)): \n",
    "            i+=1\n",
    "            X_df.loc[label, 'total_charges'] = row['tenure_months']*row['monthly_charges']\n",
    "\n",
    "    X_df['total_charges'] = X_df['total_charges'].astype(float)\n",
    "    print(f'Imputed {i} rows of non-numeric total_charges')\n",
    "    return X_df"
   ]
  },
  {
   "cell_type": "markdown",
   "metadata": {},
   "source": [
    "### ohe_categories(X_df)"
   ]
  },
  {
   "cell_type": "code",
   "execution_count": 12,
   "metadata": {
    "ExecuteTime": {
     "end_time": "2021-04-15T13:51:18.713354Z",
     "start_time": "2021-04-15T13:51:18.710098Z"
    }
   },
   "outputs": [],
   "source": [
    "# convert categorical columns to one-hot encoding features\n",
    "def ohe_categories(X_df):\n",
    "    \"\"\"Creates one-hot encoded (OHE) features for a list of categorical columns \n",
    "    and simplies column names.\n",
    "\n",
    "    Parameters:\n",
    "    X_df (pd.DataFrame)): train or test slice contains predictors\n",
    "\n",
    "    Returns:\n",
    "    X_df (pd.DataFrame)): same dataframe with OHE columns\n",
    "    \"\"\"\n",
    "    \n",
    "    # create list of multi-class variables for one-hot encoding\n",
    "    categoricals = ['gender', 'internet_service', 'contract', 'payment_method', \n",
    "                    'churn_rsn_grp']\n",
    "\n",
    "    # create one-hot encoded dummy variables for categoricals\n",
    "    X_df_ohe = pd.get_dummies(X_df[categoricals], drop_first=False, dtype=int)\n",
    "    X_df_ohe.rename(columns={'gender_Male' : 'gender_male',\n",
    "                             'gender_Female' : 'gender_female', \n",
    "                             'internet_service_0' : 'internet_svc_none' , \n",
    "                             'internet_service_DSL' : 'internet_svc_dsl', \n",
    "                             'internet_service_Fiber optic' : 'internet_svc_fiber', \n",
    "                             'contract_Month-to-month' : 'contract_mtm', \n",
    "                             'contract_One year' : 'contract_1yr', \n",
    "                             'contract_Two year' : 'contract_2yr', \n",
    "                             'payment_method_Bank transfer (automatic)' : 'pmt_meth_bank_trx_auto', \n",
    "                             'payment_method_Credit card (automatic)' : 'pmt_meth_cc_auto', \n",
    "                             'payment_method_Electronic check' : 'pmt_meth_echeck', \n",
    "                             'payment_method_Mailed check' : 'pmt_meth_mail_check', \n",
    "                             'churn_rsn_grp_Cust Service' : 'churn_rsn_grp_cust_svc',                             \n",
    "                             'churn_rsn_grp_Moved' : 'churn_rsn_grp_moved', \n",
    "                             'churn_rsn_grp_Pricing' : 'churn_rsn_grp_pricing', \n",
    "                             'churn_rsn_grp_Product' : 'churn_rsn_grp_product', \n",
    "                             'churn_rsn_grp_Unknown' : 'churn_rsn_grp_unknown'\n",
    "                            }, inplace = True)\n",
    "    \n",
    "    # concatenate OHE with original df, and drop original category columns\n",
    "    X_df2 = pd.concat([X_df, X_df_ohe], axis=1)\n",
    "    X_df2.drop(categoricals, axis=1, inplace=True)\n",
    "    \n",
    "    return X_df2"
   ]
  },
  {
   "cell_type": "markdown",
   "metadata": {},
   "source": [
    "### create_metrics(X_df)"
   ]
  },
  {
   "cell_type": "code",
   "execution_count": 13,
   "metadata": {
    "ExecuteTime": {
     "end_time": "2021-04-15T13:51:18.716726Z",
     "start_time": "2021-04-15T13:51:18.714277Z"
    }
   },
   "outputs": [],
   "source": [
    "# function creates a few calculated metrics as features\n",
    "def create_metrics(X_df):\n",
    "    \"\"\"Creates calculated fields services_cnt and monthly_charge_life_avg as \n",
    "    new features on dataframe.\n",
    "\n",
    "    Parameters:\n",
    "    X_df (pd.DataFrame)): train or test slice contains predictors\n",
    "\n",
    "    Returns:\n",
    "    X_df (pd.DataFrame)): same dataframe with new columns\n",
    "    \"\"\"\n",
    "\n",
    "    # create column for count of customer's total services (max=11)\n",
    "    svcs_list = ['phone_service', 'multiple_lines', 'online_security', \n",
    "                 'online_backup', 'device_protection', 'tech_support', \n",
    "                 'streaming_tv', 'streaming_movies', 'paperless_billing', \n",
    "                 'internet_svc_dsl', 'internet_svc_fiber']\n",
    "    X_df['service_cnt'] = X_df[svcs_list].sum(axis=1)\n",
    "\n",
    "    # create column for lifetime average monthly charge\n",
    "    X_df['monthly_charge_life_avg'] = np.where(X_df.tenure_months!=0, \n",
    "                                         X_df.total_charges/X_df.tenure_months, \n",
    "                                         X_df.monthly_charges)\n",
    "    return X_df"
   ]
  },
  {
   "cell_type": "markdown",
   "metadata": {},
   "source": [
    "### Train-Test Split"
   ]
  },
  {
   "cell_type": "code",
   "execution_count": 14,
   "metadata": {
    "ExecuteTime": {
     "end_time": "2021-04-15T13:51:18.729249Z",
     "start_time": "2021-04-15T13:51:18.717584Z"
    }
   },
   "outputs": [],
   "source": [
    "# Create X predictors and y target variable\n",
    "y = tc['churn_value']\n",
    "X = tc.drop(columns=['churn_value'], axis=1)\n",
    "\n",
    "# Split into training and test sets\n",
    "SEED = 19\n",
    "X_train, X_test, y_train, y_test = train_test_split(\n",
    "    X, y, test_size=0.20, stratify=y, random_state=SEED)\n",
    "\n",
    "# 'customerid', 'count', 'country', 'state', 'city', 'zip_code', 'lat_long', \n",
    "# 'churn_score', 'churn_reason', 'churn_rsn_grp_moved', 'churn_rsn_grp_product',\n",
    "# 'churn_rsn_grp_pricing', 'churn_rsn_grp_unknown'"
   ]
  },
  {
   "cell_type": "markdown",
   "metadata": {},
   "source": [
    "### Data Prep Pipeline"
   ]
  },
  {
   "cell_type": "code",
   "execution_count": 15,
   "metadata": {
    "ExecuteTime": {
     "end_time": "2021-04-15T13:51:18.735919Z",
     "start_time": "2021-04-15T13:51:18.731425Z"
    }
   },
   "outputs": [],
   "source": [
    "# function holds data preparation pipeline for X predictors dataframe\n",
    "def data_prep_pipe(X_df):\n",
    "    \"\"\"Executes data preparation pipeline of steps to clean and transform\n",
    "    an X features dataframe.\n",
    "\n",
    "    Parameters:\n",
    "    X_df (pd.DataFrame)): train or test slice contains predictors\n",
    "\n",
    "    Returns:\n",
    "    X_df_tr (pd.DataFrame)): train or test dataframe, transformed\n",
    "    \"\"\"\n",
    "    \n",
    "    # instantiate custom transformer functions\n",
    "    get_replace_yes_no = FunctionTransformer(replace_yes_no, validate=False)\n",
    "    get_group_churn_reason = FunctionTransformer(group_churn_reason, validate=False)\n",
    "    get_impute_total_charges = FunctionTransformer(impute_total_charges, validate=False)\n",
    "    get_ohe_categories = FunctionTransformer(ohe_categories, validate=False)\n",
    "    get_create_metrics = FunctionTransformer(create_metrics, validate=False)\n",
    "\n",
    "    # instantiate data prep pipeline object and steps\n",
    "    prep_pipe = Pipeline(memory=None, \n",
    "                         steps=[('replace_yes_no', get_replace_yes_no),\n",
    "                                ('group_churn_reason', get_group_churn_reason),\n",
    "                                ('impute_total_charges', get_impute_total_charges),\n",
    "                                ('ohe_categories', get_ohe_categories),\n",
    "                                ('create_metrics', get_create_metrics)\n",
    "                                ])\n",
    "    \n",
    "    # apply data prep pipeline to df and store/return new df\n",
    "    X_df_tr = prep_pipe.fit_transform(X_df)\n",
    "    return X_df_tr"
   ]
  },
  {
   "cell_type": "code",
   "execution_count": 16,
   "metadata": {
    "ExecuteTime": {
     "end_time": "2021-04-15T13:51:19.066777Z",
     "start_time": "2021-04-15T13:51:18.737104Z"
    }
   },
   "outputs": [
    {
     "name": "stdout",
     "output_type": "stream",
     "text": [
      "Imputed 8 rows of non-numeric total_charges\n",
      "Imputed 3 rows of non-numeric total_charges\n"
     ]
    }
   ],
   "source": [
    "# send both X_train and X_test through data prep steps\n",
    "X_train = data_prep_pipe(X_train)\n",
    "X_test = data_prep_pipe(X_test)"
   ]
  },
  {
   "cell_type": "code",
   "execution_count": 17,
   "metadata": {
    "ExecuteTime": {
     "end_time": "2021-04-15T13:51:19.126174Z",
     "start_time": "2021-04-15T13:51:19.067753Z"
    }
   },
   "outputs": [],
   "source": [
    "# create export train file for Tableau data profiling and viz\n",
    "tc2 = pd.concat([X_train, y_train], axis=1)\n",
    "tc2.to_csv('data/tc_train_transformed_tableau.csv')"
   ]
  },
  {
   "cell_type": "markdown",
   "metadata": {},
   "source": [
    "### Select Features"
   ]
  },
  {
   "cell_type": "code",
   "execution_count": 69,
   "metadata": {
    "ExecuteTime": {
     "end_time": "2021-04-15T20:54:13.280290Z",
     "start_time": "2021-04-15T20:54:13.267336Z"
    }
   },
   "outputs": [],
   "source": [
    "# create features prior to drops\n",
    "X_train['streams'] = X_train[['streaming_movies', 'streaming_tv']].sum(axis=1)\n",
    "X_train['pmt_meth_auto'] = X_train[['pmt_meth_cc_auto', 'pmt_meth_bank_trx_auto']].sum(axis=1)\n",
    "X_train['svc_add_ons'] = X_train[['online_security', 'online_backup', 'device_protection', 'tech_support', 'multiple_lines']].sum(axis=1)"
   ]
  },
  {
   "cell_type": "code",
   "execution_count": 138,
   "metadata": {
    "ExecuteTime": {
     "end_time": "2021-04-15T21:41:33.136011Z",
     "start_time": "2021-04-15T21:41:33.128406Z"
    }
   },
   "outputs": [],
   "source": [
    "# function drops columns not needed for model from dataframe\n",
    "def drop_features(X_df):\n",
    "    model_drops = ['customerid', 'count', 'country', 'city', 'state', 'streaming_movies', 'streaming_tv',\n",
    "                   'zip_code', 'lat_long', 'churn_score', 'cltv', 'senior_citizen', 'phone_service',\n",
    "                   'churn_reason', 'churn_rsn_grp_cust_svc', 'churn_rsn_grp_moved', \n",
    "                   'churn_rsn_grp_pricing', 'churn_rsn_grp_product', \n",
    "                   'churn_rsn_grp_unknown', 'service_cnt', 'monthly_charge_life_avg', \n",
    "                   'online_security', 'online_backup', 'device_protection', 'tech_support', 'multiple_lines',\n",
    "                  'total_charges', 'gender_female', 'gender_male' ,'internet_svc_none', 'svc_add_ons',\n",
    "                  'pmt_meth_mail_check', 'pmt_meth_cc_auto', 'pmt_meth_bank_trx_auto', 'pmt_meth_echeck', \n",
    "                   'contract_mtm']\n",
    "    X_df_tr = X_df.drop(model_drops, axis=1, inplace=False)\n",
    "    return X_df_tr"
   ]
  },
  {
   "cell_type": "code",
   "execution_count": 131,
   "metadata": {
    "ExecuteTime": {
     "end_time": "2021-04-15T21:37:56.067184Z",
     "start_time": "2021-04-15T21:37:56.048913Z"
    }
   },
   "outputs": [
    {
     "data": {
      "text/html": [
       "<div>\n",
       "<style scoped>\n",
       "    .dataframe tbody tr th:only-of-type {\n",
       "        vertical-align: middle;\n",
       "    }\n",
       "\n",
       "    .dataframe tbody tr th {\n",
       "        vertical-align: top;\n",
       "    }\n",
       "\n",
       "    .dataframe thead th {\n",
       "        text-align: right;\n",
       "    }\n",
       "</style>\n",
       "<table border=\"1\" class=\"dataframe\">\n",
       "  <thead>\n",
       "    <tr style=\"text-align: right;\">\n",
       "      <th></th>\n",
       "      <th>partner</th>\n",
       "      <th>dependents</th>\n",
       "      <th>tenure_months</th>\n",
       "      <th>phone_service</th>\n",
       "      <th>paperless_billing</th>\n",
       "      <th>monthly_charges</th>\n",
       "      <th>internet_svc_dsl</th>\n",
       "      <th>internet_svc_fiber</th>\n",
       "      <th>contract_1yr</th>\n",
       "      <th>contract_2yr</th>\n",
       "      <th>streams</th>\n",
       "      <th>pmt_meth_auto</th>\n",
       "    </tr>\n",
       "  </thead>\n",
       "  <tbody>\n",
       "    <tr>\n",
       "      <th>2396</th>\n",
       "      <td>0</td>\n",
       "      <td>0</td>\n",
       "      <td>2</td>\n",
       "      <td>1</td>\n",
       "      <td>1</td>\n",
       "      <td>20.550</td>\n",
       "      <td>0</td>\n",
       "      <td>0</td>\n",
       "      <td>0</td>\n",
       "      <td>0</td>\n",
       "      <td>0</td>\n",
       "      <td>0</td>\n",
       "    </tr>\n",
       "    <tr>\n",
       "      <th>6365</th>\n",
       "      <td>0</td>\n",
       "      <td>0</td>\n",
       "      <td>40</td>\n",
       "      <td>1</td>\n",
       "      <td>0</td>\n",
       "      <td>83.850</td>\n",
       "      <td>0</td>\n",
       "      <td>1</td>\n",
       "      <td>0</td>\n",
       "      <td>0</td>\n",
       "      <td>1</td>\n",
       "      <td>1</td>\n",
       "    </tr>\n",
       "    <tr>\n",
       "      <th>5898</th>\n",
       "      <td>0</td>\n",
       "      <td>0</td>\n",
       "      <td>26</td>\n",
       "      <td>1</td>\n",
       "      <td>1</td>\n",
       "      <td>56.050</td>\n",
       "      <td>1</td>\n",
       "      <td>0</td>\n",
       "      <td>1</td>\n",
       "      <td>0</td>\n",
       "      <td>0</td>\n",
       "      <td>0</td>\n",
       "    </tr>\n",
       "    <tr>\n",
       "      <th>12</th>\n",
       "      <td>0</td>\n",
       "      <td>1</td>\n",
       "      <td>34</td>\n",
       "      <td>1</td>\n",
       "      <td>1</td>\n",
       "      <td>106.350</td>\n",
       "      <td>0</td>\n",
       "      <td>1</td>\n",
       "      <td>0</td>\n",
       "      <td>0</td>\n",
       "      <td>2</td>\n",
       "      <td>0</td>\n",
       "    </tr>\n",
       "    <tr>\n",
       "      <th>5065</th>\n",
       "      <td>0</td>\n",
       "      <td>0</td>\n",
       "      <td>11</td>\n",
       "      <td>1</td>\n",
       "      <td>0</td>\n",
       "      <td>76.400</td>\n",
       "      <td>0</td>\n",
       "      <td>1</td>\n",
       "      <td>0</td>\n",
       "      <td>0</td>\n",
       "      <td>0</td>\n",
       "      <td>0</td>\n",
       "    </tr>\n",
       "  </tbody>\n",
       "</table>\n",
       "</div>"
      ],
      "text/plain": [
       "      partner  dependents  tenure_months  phone_service  paperless_billing  \\\n",
       "2396        0           0              2              1                  1   \n",
       "6365        0           0             40              1                  0   \n",
       "5898        0           0             26              1                  1   \n",
       "12          0           1             34              1                  1   \n",
       "5065        0           0             11              1                  0   \n",
       "\n",
       "      monthly_charges  internet_svc_dsl  internet_svc_fiber  contract_1yr  \\\n",
       "2396           20.550                 0                   0             0   \n",
       "6365           83.850                 0                   1             0   \n",
       "5898           56.050                 1                   0             1   \n",
       "12            106.350                 0                   1             0   \n",
       "5065           76.400                 0                   1             0   \n",
       "\n",
       "      contract_2yr  streams  pmt_meth_auto  \n",
       "2396             0        0              0  \n",
       "6365             0        1              1  \n",
       "5898             0        0              0  \n",
       "12               0        2              0  \n",
       "5065             0        0              0  "
      ]
     },
     "execution_count": 131,
     "metadata": {},
     "output_type": "execute_result"
    }
   ],
   "source": [
    "X_train2.head()"
   ]
  },
  {
   "cell_type": "code",
   "execution_count": 139,
   "metadata": {
    "ExecuteTime": {
     "end_time": "2021-04-15T21:41:35.918221Z",
     "start_time": "2021-04-15T21:41:35.912803Z"
    }
   },
   "outputs": [],
   "source": [
    "# apply drop columns against X_train and X_test\n",
    "X_train2 = drop_features(X_train)\n",
    "# X_test2 = drop_features(X_test)"
   ]
  },
  {
   "cell_type": "markdown",
   "metadata": {},
   "source": [
    "### Scale Train/Test"
   ]
  },
  {
   "cell_type": "code",
   "execution_count": 140,
   "metadata": {
    "ExecuteTime": {
     "end_time": "2021-04-15T21:41:37.620678Z",
     "start_time": "2021-04-15T21:41:37.588136Z"
    }
   },
   "outputs": [],
   "source": [
    "# fit scaler to training data and transform both train and test dataframes\n",
    "scaler = StandardScaler()\n",
    "X_train2[X_train2.columns] = scaler.fit_transform(X_train2[X_train2.columns])\n",
    "# X_test2[X_test2.columns] = scaler.transform(X_test2[X_test2.columns])"
   ]
  },
  {
   "cell_type": "markdown",
   "metadata": {},
   "source": [
    "## Describe"
   ]
  },
  {
   "cell_type": "code",
   "execution_count": 21,
   "metadata": {
    "ExecuteTime": {
     "end_time": "2021-04-15T13:51:19.219764Z",
     "start_time": "2021-04-15T13:51:19.169780Z"
    }
   },
   "outputs": [
    {
     "data": {
      "text/html": [
       "<div>\n",
       "<style scoped>\n",
       "    .dataframe tbody tr th:only-of-type {\n",
       "        vertical-align: middle;\n",
       "    }\n",
       "\n",
       "    .dataframe tbody tr th {\n",
       "        vertical-align: top;\n",
       "    }\n",
       "\n",
       "    .dataframe thead th {\n",
       "        text-align: right;\n",
       "    }\n",
       "</style>\n",
       "<table border=\"1\" class=\"dataframe\">\n",
       "  <thead>\n",
       "    <tr style=\"text-align: right;\">\n",
       "      <th></th>\n",
       "      <th>count</th>\n",
       "      <th>zip_code</th>\n",
       "      <th>senior_citizen</th>\n",
       "      <th>partner</th>\n",
       "      <th>dependents</th>\n",
       "      <th>tenure_months</th>\n",
       "      <th>phone_service</th>\n",
       "      <th>multiple_lines</th>\n",
       "      <th>online_security</th>\n",
       "      <th>online_backup</th>\n",
       "      <th>device_protection</th>\n",
       "      <th>tech_support</th>\n",
       "      <th>streaming_tv</th>\n",
       "      <th>streaming_movies</th>\n",
       "      <th>paperless_billing</th>\n",
       "      <th>monthly_charges</th>\n",
       "      <th>total_charges</th>\n",
       "      <th>churn_score</th>\n",
       "      <th>cltv</th>\n",
       "      <th>gender_female</th>\n",
       "      <th>gender_male</th>\n",
       "      <th>internet_svc_none</th>\n",
       "      <th>internet_svc_dsl</th>\n",
       "      <th>internet_svc_fiber</th>\n",
       "      <th>contract_mtm</th>\n",
       "      <th>contract_1yr</th>\n",
       "      <th>contract_2yr</th>\n",
       "      <th>pmt_meth_bank_trx_auto</th>\n",
       "      <th>pmt_meth_cc_auto</th>\n",
       "      <th>pmt_meth_echeck</th>\n",
       "      <th>pmt_meth_mail_check</th>\n",
       "      <th>churn_rsn_grp_cust_svc</th>\n",
       "      <th>churn_rsn_grp_moved</th>\n",
       "      <th>churn_rsn_grp_pricing</th>\n",
       "      <th>churn_rsn_grp_product</th>\n",
       "      <th>churn_rsn_grp_unknown</th>\n",
       "      <th>service_cnt</th>\n",
       "      <th>monthly_charge_life_avg</th>\n",
       "    </tr>\n",
       "  </thead>\n",
       "  <tbody>\n",
       "    <tr>\n",
       "      <th>count</th>\n",
       "      <td>5,634.000</td>\n",
       "      <td>5,634.000</td>\n",
       "      <td>5,634.000</td>\n",
       "      <td>5,634.000</td>\n",
       "      <td>5,634.000</td>\n",
       "      <td>5,634.000</td>\n",
       "      <td>5,634.000</td>\n",
       "      <td>5,634.000</td>\n",
       "      <td>5,634.000</td>\n",
       "      <td>5,634.000</td>\n",
       "      <td>5,634.000</td>\n",
       "      <td>5,634.000</td>\n",
       "      <td>5,634.000</td>\n",
       "      <td>5,634.000</td>\n",
       "      <td>5,634.000</td>\n",
       "      <td>5,634.000</td>\n",
       "      <td>5,634.000</td>\n",
       "      <td>5,634.000</td>\n",
       "      <td>5,634.000</td>\n",
       "      <td>5,634.000</td>\n",
       "      <td>5,634.000</td>\n",
       "      <td>5,634.000</td>\n",
       "      <td>5,634.000</td>\n",
       "      <td>5,634.000</td>\n",
       "      <td>5,634.000</td>\n",
       "      <td>5,634.000</td>\n",
       "      <td>5,634.000</td>\n",
       "      <td>5,634.000</td>\n",
       "      <td>5,634.000</td>\n",
       "      <td>5,634.000</td>\n",
       "      <td>5,634.000</td>\n",
       "      <td>5,634.000</td>\n",
       "      <td>5,634.000</td>\n",
       "      <td>5,634.000</td>\n",
       "      <td>5,634.000</td>\n",
       "      <td>5,634.000</td>\n",
       "      <td>5,634.000</td>\n",
       "      <td>5,634.000</td>\n",
       "    </tr>\n",
       "    <tr>\n",
       "      <th>mean</th>\n",
       "      <td>1.000</td>\n",
       "      <td>93,511.038</td>\n",
       "      <td>0.162</td>\n",
       "      <td>0.484</td>\n",
       "      <td>0.227</td>\n",
       "      <td>32.483</td>\n",
       "      <td>0.903</td>\n",
       "      <td>0.422</td>\n",
       "      <td>0.286</td>\n",
       "      <td>0.345</td>\n",
       "      <td>0.345</td>\n",
       "      <td>0.288</td>\n",
       "      <td>0.389</td>\n",
       "      <td>0.392</td>\n",
       "      <td>0.593</td>\n",
       "      <td>64.998</td>\n",
       "      <td>2,299.988</td>\n",
       "      <td>58.566</td>\n",
       "      <td>4,400.792</td>\n",
       "      <td>0.494</td>\n",
       "      <td>0.506</td>\n",
       "      <td>0.214</td>\n",
       "      <td>0.343</td>\n",
       "      <td>0.443</td>\n",
       "      <td>0.550</td>\n",
       "      <td>0.210</td>\n",
       "      <td>0.241</td>\n",
       "      <td>0.219</td>\n",
       "      <td>0.217</td>\n",
       "      <td>0.335</td>\n",
       "      <td>0.230</td>\n",
       "      <td>0.075</td>\n",
       "      <td>0.008</td>\n",
       "      <td>0.054</td>\n",
       "      <td>0.106</td>\n",
       "      <td>0.022</td>\n",
       "      <td>4.749</td>\n",
       "      <td>65.020</td>\n",
       "    </tr>\n",
       "    <tr>\n",
       "      <th>std</th>\n",
       "      <td>0.000</td>\n",
       "      <td>1,871.566</td>\n",
       "      <td>0.369</td>\n",
       "      <td>0.500</td>\n",
       "      <td>0.419</td>\n",
       "      <td>24.598</td>\n",
       "      <td>0.296</td>\n",
       "      <td>0.494</td>\n",
       "      <td>0.452</td>\n",
       "      <td>0.475</td>\n",
       "      <td>0.475</td>\n",
       "      <td>0.453</td>\n",
       "      <td>0.488</td>\n",
       "      <td>0.488</td>\n",
       "      <td>0.491</td>\n",
       "      <td>30.132</td>\n",
       "      <td>2,277.843</td>\n",
       "      <td>21.568</td>\n",
       "      <td>1,181.463</td>\n",
       "      <td>0.500</td>\n",
       "      <td>0.500</td>\n",
       "      <td>0.410</td>\n",
       "      <td>0.475</td>\n",
       "      <td>0.497</td>\n",
       "      <td>0.498</td>\n",
       "      <td>0.407</td>\n",
       "      <td>0.427</td>\n",
       "      <td>0.414</td>\n",
       "      <td>0.412</td>\n",
       "      <td>0.472</td>\n",
       "      <td>0.421</td>\n",
       "      <td>0.263</td>\n",
       "      <td>0.091</td>\n",
       "      <td>0.225</td>\n",
       "      <td>0.308</td>\n",
       "      <td>0.147</td>\n",
       "      <td>2.485</td>\n",
       "      <td>30.238</td>\n",
       "    </tr>\n",
       "    <tr>\n",
       "      <th>min</th>\n",
       "      <td>1.000</td>\n",
       "      <td>90,001.000</td>\n",
       "      <td>0.000</td>\n",
       "      <td>0.000</td>\n",
       "      <td>0.000</td>\n",
       "      <td>0.000</td>\n",
       "      <td>0.000</td>\n",
       "      <td>0.000</td>\n",
       "      <td>0.000</td>\n",
       "      <td>0.000</td>\n",
       "      <td>0.000</td>\n",
       "      <td>0.000</td>\n",
       "      <td>0.000</td>\n",
       "      <td>0.000</td>\n",
       "      <td>0.000</td>\n",
       "      <td>18.250</td>\n",
       "      <td>0.000</td>\n",
       "      <td>5.000</td>\n",
       "      <td>2,003.000</td>\n",
       "      <td>0.000</td>\n",
       "      <td>0.000</td>\n",
       "      <td>0.000</td>\n",
       "      <td>0.000</td>\n",
       "      <td>0.000</td>\n",
       "      <td>0.000</td>\n",
       "      <td>0.000</td>\n",
       "      <td>0.000</td>\n",
       "      <td>0.000</td>\n",
       "      <td>0.000</td>\n",
       "      <td>0.000</td>\n",
       "      <td>0.000</td>\n",
       "      <td>0.000</td>\n",
       "      <td>0.000</td>\n",
       "      <td>0.000</td>\n",
       "      <td>0.000</td>\n",
       "      <td>0.000</td>\n",
       "      <td>1.000</td>\n",
       "      <td>13.775</td>\n",
       "    </tr>\n",
       "    <tr>\n",
       "      <th>25%</th>\n",
       "      <td>1.000</td>\n",
       "      <td>92,091.000</td>\n",
       "      <td>0.000</td>\n",
       "      <td>0.000</td>\n",
       "      <td>0.000</td>\n",
       "      <td>9.000</td>\n",
       "      <td>1.000</td>\n",
       "      <td>0.000</td>\n",
       "      <td>0.000</td>\n",
       "      <td>0.000</td>\n",
       "      <td>0.000</td>\n",
       "      <td>0.000</td>\n",
       "      <td>0.000</td>\n",
       "      <td>0.000</td>\n",
       "      <td>0.000</td>\n",
       "      <td>35.825</td>\n",
       "      <td>404.237</td>\n",
       "      <td>40.000</td>\n",
       "      <td>3,465.000</td>\n",
       "      <td>0.000</td>\n",
       "      <td>0.000</td>\n",
       "      <td>0.000</td>\n",
       "      <td>0.000</td>\n",
       "      <td>0.000</td>\n",
       "      <td>0.000</td>\n",
       "      <td>0.000</td>\n",
       "      <td>0.000</td>\n",
       "      <td>0.000</td>\n",
       "      <td>0.000</td>\n",
       "      <td>0.000</td>\n",
       "      <td>0.000</td>\n",
       "      <td>0.000</td>\n",
       "      <td>0.000</td>\n",
       "      <td>0.000</td>\n",
       "      <td>0.000</td>\n",
       "      <td>0.000</td>\n",
       "      <td>3.000</td>\n",
       "      <td>36.732</td>\n",
       "    </tr>\n",
       "    <tr>\n",
       "      <th>50%</th>\n",
       "      <td>1.000</td>\n",
       "      <td>93,546.000</td>\n",
       "      <td>0.000</td>\n",
       "      <td>0.000</td>\n",
       "      <td>0.000</td>\n",
       "      <td>29.000</td>\n",
       "      <td>1.000</td>\n",
       "      <td>0.000</td>\n",
       "      <td>0.000</td>\n",
       "      <td>0.000</td>\n",
       "      <td>0.000</td>\n",
       "      <td>0.000</td>\n",
       "      <td>0.000</td>\n",
       "      <td>0.000</td>\n",
       "      <td>1.000</td>\n",
       "      <td>70.400</td>\n",
       "      <td>1,401.275</td>\n",
       "      <td>61.000</td>\n",
       "      <td>4,526.500</td>\n",
       "      <td>0.000</td>\n",
       "      <td>1.000</td>\n",
       "      <td>0.000</td>\n",
       "      <td>0.000</td>\n",
       "      <td>0.000</td>\n",
       "      <td>1.000</td>\n",
       "      <td>0.000</td>\n",
       "      <td>0.000</td>\n",
       "      <td>0.000</td>\n",
       "      <td>0.000</td>\n",
       "      <td>0.000</td>\n",
       "      <td>0.000</td>\n",
       "      <td>0.000</td>\n",
       "      <td>0.000</td>\n",
       "      <td>0.000</td>\n",
       "      <td>0.000</td>\n",
       "      <td>0.000</td>\n",
       "      <td>5.000</td>\n",
       "      <td>70.453</td>\n",
       "    </tr>\n",
       "    <tr>\n",
       "      <th>75%</th>\n",
       "      <td>1.000</td>\n",
       "      <td>95,351.000</td>\n",
       "      <td>0.000</td>\n",
       "      <td>1.000</td>\n",
       "      <td>0.000</td>\n",
       "      <td>56.000</td>\n",
       "      <td>1.000</td>\n",
       "      <td>1.000</td>\n",
       "      <td>1.000</td>\n",
       "      <td>1.000</td>\n",
       "      <td>1.000</td>\n",
       "      <td>1.000</td>\n",
       "      <td>1.000</td>\n",
       "      <td>1.000</td>\n",
       "      <td>1.000</td>\n",
       "      <td>90.150</td>\n",
       "      <td>3,836.113</td>\n",
       "      <td>75.000</td>\n",
       "      <td>5,380.000</td>\n",
       "      <td>1.000</td>\n",
       "      <td>1.000</td>\n",
       "      <td>0.000</td>\n",
       "      <td>1.000</td>\n",
       "      <td>1.000</td>\n",
       "      <td>1.000</td>\n",
       "      <td>0.000</td>\n",
       "      <td>0.000</td>\n",
       "      <td>0.000</td>\n",
       "      <td>0.000</td>\n",
       "      <td>1.000</td>\n",
       "      <td>0.000</td>\n",
       "      <td>0.000</td>\n",
       "      <td>0.000</td>\n",
       "      <td>0.000</td>\n",
       "      <td>0.000</td>\n",
       "      <td>0.000</td>\n",
       "      <td>7.000</td>\n",
       "      <td>90.625</td>\n",
       "    </tr>\n",
       "    <tr>\n",
       "      <th>max</th>\n",
       "      <td>1.000</td>\n",
       "      <td>96,161.000</td>\n",
       "      <td>1.000</td>\n",
       "      <td>1.000</td>\n",
       "      <td>1.000</td>\n",
       "      <td>72.000</td>\n",
       "      <td>1.000</td>\n",
       "      <td>1.000</td>\n",
       "      <td>1.000</td>\n",
       "      <td>1.000</td>\n",
       "      <td>1.000</td>\n",
       "      <td>1.000</td>\n",
       "      <td>1.000</td>\n",
       "      <td>1.000</td>\n",
       "      <td>1.000</td>\n",
       "      <td>118.750</td>\n",
       "      <td>8,684.800</td>\n",
       "      <td>100.000</td>\n",
       "      <td>6,500.000</td>\n",
       "      <td>1.000</td>\n",
       "      <td>1.000</td>\n",
       "      <td>1.000</td>\n",
       "      <td>1.000</td>\n",
       "      <td>1.000</td>\n",
       "      <td>1.000</td>\n",
       "      <td>1.000</td>\n",
       "      <td>1.000</td>\n",
       "      <td>1.000</td>\n",
       "      <td>1.000</td>\n",
       "      <td>1.000</td>\n",
       "      <td>1.000</td>\n",
       "      <td>1.000</td>\n",
       "      <td>1.000</td>\n",
       "      <td>1.000</td>\n",
       "      <td>1.000</td>\n",
       "      <td>1.000</td>\n",
       "      <td>10.000</td>\n",
       "      <td>121.400</td>\n",
       "    </tr>\n",
       "  </tbody>\n",
       "</table>\n",
       "</div>"
      ],
      "text/plain": [
       "          count   zip_code  senior_citizen   partner  dependents  \\\n",
       "count 5,634.000  5,634.000       5,634.000 5,634.000   5,634.000   \n",
       "mean      1.000 93,511.038           0.162     0.484       0.227   \n",
       "std       0.000  1,871.566           0.369     0.500       0.419   \n",
       "min       1.000 90,001.000           0.000     0.000       0.000   \n",
       "25%       1.000 92,091.000           0.000     0.000       0.000   \n",
       "50%       1.000 93,546.000           0.000     0.000       0.000   \n",
       "75%       1.000 95,351.000           0.000     1.000       0.000   \n",
       "max       1.000 96,161.000           1.000     1.000       1.000   \n",
       "\n",
       "       tenure_months  phone_service  multiple_lines  online_security  \\\n",
       "count      5,634.000      5,634.000       5,634.000        5,634.000   \n",
       "mean          32.483          0.903           0.422            0.286   \n",
       "std           24.598          0.296           0.494            0.452   \n",
       "min            0.000          0.000           0.000            0.000   \n",
       "25%            9.000          1.000           0.000            0.000   \n",
       "50%           29.000          1.000           0.000            0.000   \n",
       "75%           56.000          1.000           1.000            1.000   \n",
       "max           72.000          1.000           1.000            1.000   \n",
       "\n",
       "       online_backup  device_protection  tech_support  streaming_tv  \\\n",
       "count      5,634.000          5,634.000     5,634.000     5,634.000   \n",
       "mean           0.345              0.345         0.288         0.389   \n",
       "std            0.475              0.475         0.453         0.488   \n",
       "min            0.000              0.000         0.000         0.000   \n",
       "25%            0.000              0.000         0.000         0.000   \n",
       "50%            0.000              0.000         0.000         0.000   \n",
       "75%            1.000              1.000         1.000         1.000   \n",
       "max            1.000              1.000         1.000         1.000   \n",
       "\n",
       "       streaming_movies  paperless_billing  monthly_charges  total_charges  \\\n",
       "count         5,634.000          5,634.000        5,634.000      5,634.000   \n",
       "mean              0.392              0.593           64.998      2,299.988   \n",
       "std               0.488              0.491           30.132      2,277.843   \n",
       "min               0.000              0.000           18.250          0.000   \n",
       "25%               0.000              0.000           35.825        404.237   \n",
       "50%               0.000              1.000           70.400      1,401.275   \n",
       "75%               1.000              1.000           90.150      3,836.113   \n",
       "max               1.000              1.000          118.750      8,684.800   \n",
       "\n",
       "       churn_score      cltv  gender_female  gender_male  internet_svc_none  \\\n",
       "count    5,634.000 5,634.000      5,634.000    5,634.000          5,634.000   \n",
       "mean        58.566 4,400.792          0.494        0.506              0.214   \n",
       "std         21.568 1,181.463          0.500        0.500              0.410   \n",
       "min          5.000 2,003.000          0.000        0.000              0.000   \n",
       "25%         40.000 3,465.000          0.000        0.000              0.000   \n",
       "50%         61.000 4,526.500          0.000        1.000              0.000   \n",
       "75%         75.000 5,380.000          1.000        1.000              0.000   \n",
       "max        100.000 6,500.000          1.000        1.000              1.000   \n",
       "\n",
       "       internet_svc_dsl  internet_svc_fiber  contract_mtm  contract_1yr  \\\n",
       "count         5,634.000           5,634.000     5,634.000     5,634.000   \n",
       "mean              0.343               0.443         0.550         0.210   \n",
       "std               0.475               0.497         0.498         0.407   \n",
       "min               0.000               0.000         0.000         0.000   \n",
       "25%               0.000               0.000         0.000         0.000   \n",
       "50%               0.000               0.000         1.000         0.000   \n",
       "75%               1.000               1.000         1.000         0.000   \n",
       "max               1.000               1.000         1.000         1.000   \n",
       "\n",
       "       contract_2yr  pmt_meth_bank_trx_auto  pmt_meth_cc_auto  \\\n",
       "count     5,634.000               5,634.000         5,634.000   \n",
       "mean          0.241                   0.219             0.217   \n",
       "std           0.427                   0.414             0.412   \n",
       "min           0.000                   0.000             0.000   \n",
       "25%           0.000                   0.000             0.000   \n",
       "50%           0.000                   0.000             0.000   \n",
       "75%           0.000                   0.000             0.000   \n",
       "max           1.000                   1.000             1.000   \n",
       "\n",
       "       pmt_meth_echeck  pmt_meth_mail_check  churn_rsn_grp_cust_svc  \\\n",
       "count        5,634.000            5,634.000               5,634.000   \n",
       "mean             0.335                0.230                   0.075   \n",
       "std              0.472                0.421                   0.263   \n",
       "min              0.000                0.000                   0.000   \n",
       "25%              0.000                0.000                   0.000   \n",
       "50%              0.000                0.000                   0.000   \n",
       "75%              1.000                0.000                   0.000   \n",
       "max              1.000                1.000                   1.000   \n",
       "\n",
       "       churn_rsn_grp_moved  churn_rsn_grp_pricing  churn_rsn_grp_product  \\\n",
       "count            5,634.000              5,634.000              5,634.000   \n",
       "mean                 0.008                  0.054                  0.106   \n",
       "std                  0.091                  0.225                  0.308   \n",
       "min                  0.000                  0.000                  0.000   \n",
       "25%                  0.000                  0.000                  0.000   \n",
       "50%                  0.000                  0.000                  0.000   \n",
       "75%                  0.000                  0.000                  0.000   \n",
       "max                  1.000                  1.000                  1.000   \n",
       "\n",
       "       churn_rsn_grp_unknown  service_cnt  monthly_charge_life_avg  \n",
       "count              5,634.000    5,634.000                5,634.000  \n",
       "mean                   0.022        4.749                   65.020  \n",
       "std                    0.147        2.485                   30.238  \n",
       "min                    0.000        1.000                   13.775  \n",
       "25%                    0.000        3.000                   36.732  \n",
       "50%                    0.000        5.000                   70.453  \n",
       "75%                    0.000        7.000                   90.625  \n",
       "max                    1.000       10.000                  121.400  "
      ]
     },
     "execution_count": 21,
     "metadata": {},
     "output_type": "execute_result"
    }
   ],
   "source": [
    "# basic describe stats\n",
    "X_train.describe()"
   ]
  },
  {
   "cell_type": "markdown",
   "metadata": {},
   "source": [
    "**Notes on Describe**\n",
    "- Demographics: 16% seniors, 48% w/ partner, 23% w/ dependents, 50% male\n",
    "- Tenure: Mean is 32 months, Median 29 months, Upper 25% 55 months\n",
    "- Product: Phone 90%, Multi-line 42%, Security 29%, Backup 34%, Protection 34%, Support 29%, Streaming 38%, DSL 34%, Fiber 44%\n",
    "- Contract: 21% 1yr, 24% 2yr, 55% month-to-month\n",
    "- Billing: Paperless 59%, CC Auto 22%, echeck 34%, mail 23%, bank transfer 22%\n",
    "- Monthly Charges: Average \\\\$65, Median \\\\$70, Range \\\\$18-119"
   ]
  },
  {
   "cell_type": "markdown",
   "metadata": {},
   "source": [
    "## Outliers"
   ]
  },
  {
   "cell_type": "markdown",
   "metadata": {},
   "source": [
    "# Data Analysis"
   ]
  },
  {
   "cell_type": "markdown",
   "metadata": {},
   "source": [
    "## Plots"
   ]
  },
  {
   "cell_type": "code",
   "execution_count": 22,
   "metadata": {
    "ExecuteTime": {
     "end_time": "2021-04-15T13:51:19.382001Z",
     "start_time": "2021-04-15T13:51:19.220655Z"
    }
   },
   "outputs": [
    {
     "data": {
      "image/png": "[encoded data removed]",
      "text/plain": [
       "<Figure size 720x432 with 1 Axes>"
      ]
     },
     "metadata": {},
     "output_type": "display_data"
    }
   ],
   "source": [
    "# histogram of the height\n",
    "tc2[tc2['churn_value'] == 0].tenure_months.plot(kind='hist', color='tab:blue', edgecolor='black', alpha=0.5, figsize=(10,6))\n",
    "tc2[tc2['churn_value'] == 1].tenure_months.plot(kind='hist', color='tab:orange', edgecolor='black', alpha=0.5, figsize=(10,6))\n",
    "plt.legend(labels=['No Churn', 'Churn'])\n",
    "plt.title('Distribution of Tenure Months', size=24)\n",
    "plt.xlabel('Tenure Months', size=18)\n",
    "plt.ylabel('Frequency', size=18)\n",
    "plt.tight_layout\n",
    "plt.show()"
   ]
  },
  {
   "cell_type": "code",
   "execution_count": 23,
   "metadata": {
    "ExecuteTime": {
     "end_time": "2021-04-15T13:51:20.547984Z",
     "start_time": "2021-04-15T13:51:19.382987Z"
    }
   },
   "outputs": [
    {
     "data": {
      "image/png": "[encoded data removed]",
      "text/plain": [
       "<Figure size 720x504 with 1 Axes>"
      ]
     },
     "metadata": {},
     "output_type": "display_data"
    }
   ],
   "source": [
    "# regression plot using seaborn\n",
    "tc2_0 = tc2[tc2['churn_value'] == 0]\n",
    "tc2_1 = tc2[tc2['churn_value'] == 1]\n",
    "\n",
    "fig = plt.figure(figsize=(10, 7))\n",
    "sns.regplot(data=tc2_0, x='tenure_months', y='monthly_charges', scatter_kws = {'color': 'tab:blue', 'alpha' : 0.3}, line_kws={'color' : 'royalblue'}) \n",
    "sns.regplot(data=tc2_1, x='tenure_months', y='monthly_charges', scatter_kws = {'color': 'tab:orange', 'alpha' : 0.3}, line_kws={'color' : 'darkorange'})\n",
    "\n",
    "# Legend, title and labels.\n",
    "plt.legend(labels=['No Churn', 'Churn'])\n",
    "plt.title('Tenure Months vs. Monthly Charge Regression', size=20)\n",
    "plt.xlabel('Tenure Months', size=16)\n",
    "plt.ylabel('Monthly Charges', size=16)\n",
    "plt.tight_layout()\n",
    "plt.show()"
   ]
  },
  {
   "cell_type": "markdown",
   "metadata": {},
   "source": [
    "## Correlation"
   ]
  },
  {
   "cell_type": "code",
   "execution_count": 24,
   "metadata": {
    "ExecuteTime": {
     "end_time": "2021-04-15T13:51:20.563158Z",
     "start_time": "2021-04-15T13:51:20.548984Z"
    }
   },
   "outputs": [
    {
     "data": {
      "text/plain": [
       "contract_mtm               0.402\n",
       "pmt_meth_echeck            0.303\n",
       "internet_svc_fiber         0.302\n",
       "monthly_charges            0.193\n",
       "monthly_charge_life_avg    0.192\n",
       "paperless_billing          0.189\n",
       "senior_citizen             0.136\n",
       "streaming_movies           0.074\n",
       "streaming_tv               0.062\n",
       "multiple_lines             0.049\n",
       "service_cnt                0.024\n",
       "phone_service              0.011\n",
       "gender_female              0.010\n",
       "gender_male               -0.010\n",
       "device_protection         -0.062\n",
       "online_backup             -0.078\n",
       "pmt_meth_mail_check       -0.096\n",
       "pmt_meth_bank_trx_auto    -0.113\n",
       "internet_svc_dsl          -0.119\n",
       "cltv                      -0.132\n",
       "pmt_meth_cc_auto          -0.135\n",
       "partner                   -0.140\n",
       "tech_support              -0.170\n",
       "online_security           -0.170\n",
       "contract_1yr              -0.178\n",
       "total_charges             -0.192\n",
       "internet_svc_none         -0.228\n",
       "dependents                -0.247\n",
       "contract_2yr              -0.299\n",
       "tenure_months             -0.344\n",
       "Name: churn_value, dtype: float64"
      ]
     },
     "execution_count": 24,
     "metadata": {},
     "output_type": "execute_result"
    }
   ],
   "source": [
    "# create column correlation matrix\n",
    "corr = tc2.corr()\n",
    "\n",
    "# limit to churn target and drop non-predictive fields\n",
    "corr_churn = corr.copy().loc[:, 'churn_value'].sort_values(ascending=False)\n",
    "to_drop = ['zip_code', 'count', 'churn_value', 'churn_score', 'churn_rsn_grp_product', \n",
    "           'churn_rsn_grp_cust_svc', 'churn_rsn_grp_pricing', 'churn_rsn_grp_moved', \n",
    "           'churn_rsn_grp_unknown']\n",
    "corr_churn = corr_churn.drop(to_drop)\n",
    "corr_churn"
   ]
  },
  {
   "cell_type": "code",
   "execution_count": 25,
   "metadata": {
    "ExecuteTime": {
     "end_time": "2021-04-15T13:51:21.782553Z",
     "start_time": "2021-04-15T13:51:20.564213Z"
    }
   },
   "outputs": [
    {
     "data": {
      "image/png": "[encoded data removed]",
      "text/plain": [
       "<Figure size 1080x1080 with 2 Axes>"
      ]
     },
     "metadata": {},
     "output_type": "display_data"
    }
   ],
   "source": [
    "# show heatmap for correlation matrix\n",
    "f, ax = plt.subplots(figsize=(15,15))\n",
    "corr2 = corr.drop(to_drop).drop(to_drop, axis=1)\n",
    "mask = np.zeros(corr2.shape, dtype=bool)\n",
    "mask[np.triu_indices(len(mask))] = True\n",
    "sns.heatmap(corr2, mask = mask, fmt='.0%',\n",
    "            center=0, linewidths=0.3, cmap='coolwarm', square=True, \n",
    "            annot=True, cbar_kws={'shrink': 0.8}, annot_kws={'size': 8})\n",
    "plt.tight_layout\n",
    "plt.show()"
   ]
  },
  {
   "cell_type": "code",
   "execution_count": 26,
   "metadata": {
    "ExecuteTime": {
     "end_time": "2021-04-15T13:51:21.795269Z",
     "start_time": "2021-04-15T13:51:21.783530Z"
    }
   },
   "outputs": [
    {
     "data": {
      "text/html": [
       "<div>\n",
       "<style scoped>\n",
       "    .dataframe tbody tr th:only-of-type {\n",
       "        vertical-align: middle;\n",
       "    }\n",
       "\n",
       "    .dataframe tbody tr th {\n",
       "        vertical-align: top;\n",
       "    }\n",
       "\n",
       "    .dataframe thead th {\n",
       "        text-align: right;\n",
       "    }\n",
       "</style>\n",
       "<table border=\"1\" class=\"dataframe\">\n",
       "  <thead>\n",
       "    <tr style=\"text-align: right;\">\n",
       "      <th></th>\n",
       "      <th>correlation</th>\n",
       "    </tr>\n",
       "    <tr>\n",
       "      <th>pairs</th>\n",
       "      <th></th>\n",
       "    </tr>\n",
       "  </thead>\n",
       "  <tbody>\n",
       "    <tr>\n",
       "      <th>(senior_citizen, senior_citizen)</th>\n",
       "      <td>1.000</td>\n",
       "    </tr>\n",
       "    <tr>\n",
       "      <th>(monthly_charges, monthly_charge_life_avg)</th>\n",
       "      <td>0.996</td>\n",
       "    </tr>\n",
       "    <tr>\n",
       "      <th>(monthly_charges, service_cnt)</th>\n",
       "      <td>0.865</td>\n",
       "    </tr>\n",
       "    <tr>\n",
       "      <th>(service_cnt, monthly_charge_life_avg)</th>\n",
       "      <td>0.862</td>\n",
       "    </tr>\n",
       "    <tr>\n",
       "      <th>(total_charges, tenure_months)</th>\n",
       "      <td>0.827</td>\n",
       "    </tr>\n",
       "    <tr>\n",
       "      <th>(monthly_charges, internet_svc_fiber)</th>\n",
       "      <td>0.789</td>\n",
       "    </tr>\n",
       "    <tr>\n",
       "      <th>(monthly_charge_life_avg, internet_svc_fiber)</th>\n",
       "      <td>0.786</td>\n",
       "    </tr>\n",
       "    <tr>\n",
       "      <th>(total_charges, service_cnt)</th>\n",
       "      <td>0.757</td>\n",
       "    </tr>\n",
       "    <tr>\n",
       "      <th>(service_cnt, streaming_tv)</th>\n",
       "      <td>0.677</td>\n",
       "    </tr>\n",
       "    <tr>\n",
       "      <th>(service_cnt, streaming_movies)</th>\n",
       "      <td>0.675</td>\n",
       "    </tr>\n",
       "    <tr>\n",
       "      <th>(monthly_charges, total_charges)</th>\n",
       "      <td>0.654</td>\n",
       "    </tr>\n",
       "    <tr>\n",
       "      <th>(total_charges, monthly_charge_life_avg)</th>\n",
       "      <td>0.654</td>\n",
       "    </tr>\n",
       "    <tr>\n",
       "      <th>(service_cnt, internet_svc_none)</th>\n",
       "      <td>-0.682</td>\n",
       "    </tr>\n",
       "    <tr>\n",
       "      <th>(internet_svc_none, monthly_charge_life_avg)</th>\n",
       "      <td>-0.757</td>\n",
       "    </tr>\n",
       "    <tr>\n",
       "      <th>(monthly_charges, internet_svc_none)</th>\n",
       "      <td>-0.761</td>\n",
       "    </tr>\n",
       "    <tr>\n",
       "      <th>(gender_male, gender_female)</th>\n",
       "      <td>-1.000</td>\n",
       "    </tr>\n",
       "  </tbody>\n",
       "</table>\n",
       "</div>"
      ],
      "text/plain": [
       "                                               correlation\n",
       "pairs                                                     \n",
       "(senior_citizen, senior_citizen)                     1.000\n",
       "(monthly_charges, monthly_charge_life_avg)           0.996\n",
       "(monthly_charges, service_cnt)                       0.865\n",
       "(service_cnt, monthly_charge_life_avg)               0.862\n",
       "(total_charges, tenure_months)                       0.827\n",
       "(monthly_charges, internet_svc_fiber)                0.789\n",
       "(monthly_charge_life_avg, internet_svc_fiber)        0.786\n",
       "(total_charges, service_cnt)                         0.757\n",
       "(service_cnt, streaming_tv)                          0.677\n",
       "(service_cnt, streaming_movies)                      0.675\n",
       "(monthly_charges, total_charges)                     0.654\n",
       "(total_charges, monthly_charge_life_avg)             0.654\n",
       "(service_cnt, internet_svc_none)                    -0.682\n",
       "(internet_svc_none, monthly_charge_life_avg)        -0.757\n",
       "(monthly_charges, internet_svc_none)                -0.761\n",
       "(gender_male, gender_female)                        -1.000"
      ]
     },
     "execution_count": 26,
     "metadata": {},
     "output_type": "execute_result"
    }
   ],
   "source": [
    "# check for collinearity among potential predictors by pairs\n",
    "df = (\n",
    "     corr2\n",
    "     .stack()\n",
    "     .reset_index()\n",
    "     .sort_values(0, ascending=False)\n",
    ")\n",
    "# zip the default name columns level_0 and level_1\n",
    "df['pairs'] = list(zip(df.level_0, df.level_1))\n",
    "# set index to pairs\n",
    "df.set_index(['pairs'], inplace=True)\n",
    "# now drop level columns\n",
    "df.drop(columns=['level_1', 'level_0'], inplace=True)\n",
    "# rename correlation column rather than 0\n",
    "df.columns = ['correlation']\n",
    "# drop duplicates and keep only pair correlations above 0.65\n",
    "df.drop_duplicates(inplace=True)\n",
    "df[abs(df.correlation) > .65]"
   ]
  },
  {
   "cell_type": "markdown",
   "metadata": {},
   "source": [
    "## Models"
   ]
  },
  {
   "cell_type": "markdown",
   "metadata": {},
   "source": [
    "# Churn Models"
   ]
  },
  {
   "cell_type": "markdown",
   "metadata": {},
   "source": [
    "### display_confusion"
   ]
  },
  {
   "cell_type": "code",
   "execution_count": 27,
   "metadata": {
    "ExecuteTime": {
     "end_time": "2021-04-15T13:51:21.798860Z",
     "start_time": "2021-04-15T13:51:21.796421Z"
    }
   },
   "outputs": [],
   "source": [
    "# plot confusion matrix for DT classifier\n",
    "def display_confusion(model, X, y_true, labels=None):\n",
    "    plot_confusion_matrix(model, X, y_true, cmap=plt.cm.Blues, \n",
    "                          display_labels=labels)\n",
    "    plt.grid(False)     \n",
    "    plt.tight_layout()\n",
    "    plt.show()"
   ]
  },
  {
   "cell_type": "markdown",
   "metadata": {},
   "source": [
    "### m0 Dummy Classifier"
   ]
  },
  {
   "cell_type": "code",
   "execution_count": 28,
   "metadata": {
    "ExecuteTime": {
     "end_time": "2021-04-15T13:51:21.919325Z",
     "start_time": "2021-04-15T13:51:21.799944Z"
    }
   },
   "outputs": [
    {
     "ename": "NameError",
     "evalue": "name 'X_train_m0' is not defined",
     "output_type": "error",
     "traceback": [
      "\u001b[0;31m---------------------------------------------------------------------------\u001b[0m",
      "\u001b[0;31mNameError\u001b[0m                                 Traceback (most recent call last)",
      "\u001b[0;32m<ipython-input-28-355f1cdc4cf8>\u001b[0m in \u001b[0;36m<module>\u001b[0;34m\u001b[0m\n\u001b[1;32m      1\u001b[0m \u001b[0mdum\u001b[0m \u001b[0;34m=\u001b[0m \u001b[0mDummyClassifier\u001b[0m\u001b[0;34m(\u001b[0m\u001b[0mstrategy\u001b[0m\u001b[0;34m=\u001b[0m\u001b[0;34m\"stratified\"\u001b[0m\u001b[0;34m)\u001b[0m\u001b[0;34m\u001b[0m\u001b[0;34m\u001b[0m\u001b[0m\n\u001b[1;32m      2\u001b[0m \u001b[0mdum\u001b[0m\u001b[0;34m.\u001b[0m\u001b[0mfit\u001b[0m\u001b[0;34m(\u001b[0m\u001b[0mX_train\u001b[0m\u001b[0;34m,\u001b[0m \u001b[0my_train\u001b[0m\u001b[0;34m)\u001b[0m\u001b[0;34m\u001b[0m\u001b[0;34m\u001b[0m\u001b[0m\n\u001b[0;32m----> 3\u001b[0;31m \u001b[0my_hat_train_m0\u001b[0m \u001b[0;34m=\u001b[0m \u001b[0mdum\u001b[0m\u001b[0;34m.\u001b[0m\u001b[0mpredict\u001b[0m\u001b[0;34m(\u001b[0m\u001b[0mX_train_m0\u001b[0m\u001b[0;34m)\u001b[0m\u001b[0;34m\u001b[0m\u001b[0;34m\u001b[0m\u001b[0m\n\u001b[0m",
      "\u001b[0;31mNameError\u001b[0m: name 'X_train_m0' is not defined"
     ]
    }
   ],
   "source": [
    "\n",
    "dum = DummyClassifier(strategy=\"stratified\")\n",
    "dum.fit(X_train, y_train)\n",
    "y_hat_train_m0 = dum.predict(X_train_m0)\n"
   ]
  },
  {
   "cell_type": "markdown",
   "metadata": {},
   "source": [
    "### m1 Decision Tree Vanilla"
   ]
  },
  {
   "cell_type": "code",
   "execution_count": null,
   "metadata": {
    "ExecuteTime": {
     "end_time": "2021-04-15T13:51:21.920361Z",
     "start_time": "2021-04-15T13:51:15.921Z"
    }
   },
   "outputs": [],
   "source": [
    "# select feautres to feed dt model\n",
    "m1_drops = ['customerid', 'count', 'country', 'city', 'state', 'zip_code', \n",
    "            'lat_long', 'churn_score', 'cltv', 'churn_reason', \n",
    "            'churn_rsn_grp_cust_svc', 'churn_rsn_grp_moved', \n",
    "            'churn_rsn_grp_pricing', 'churn_rsn_grp_product', \n",
    "            'churn_rsn_grp_unknown']\n",
    "X_train_tr_m1 = X_train_tr.copy().drop(m1_drops, axis=1, inplace=False)\n",
    "X_test_tr_m1 = X_test_tr.copy().drop(m1_drops, axis=1, inplace=False)\n",
    "X_train_tr_m1.head()"
   ]
  },
  {
   "cell_type": "code",
   "execution_count": null,
   "metadata": {
    "ExecuteTime": {
     "end_time": "2021-04-15T13:51:21.920960Z",
     "start_time": "2021-04-15T13:51:15.922Z"
    }
   },
   "outputs": [],
   "source": [
    "# train a DT classifier using training data \n",
    "dt = tree.DecisionTreeClassifier(criterion='entropy', random_state=SEED, max_depth=3)\n",
    "dt.fit(X_train_tr_m1, y_train)"
   ]
  },
  {
   "cell_type": "code",
   "execution_count": null,
   "metadata": {
    "ExecuteTime": {
     "end_time": "2021-04-15T13:51:21.921540Z",
     "start_time": "2021-04-15T13:51:15.923Z"
    }
   },
   "outputs": [],
   "source": [
    "# make predictions using test set \n",
    "y_test_pred_m1 = dt.predict(X_test_tr_m1)"
   ]
  },
  {
   "cell_type": "code",
   "execution_count": null,
   "metadata": {
    "ExecuteTime": {
     "end_time": "2021-04-15T13:51:21.922127Z",
     "start_time": "2021-04-15T13:51:15.924Z"
    }
   },
   "outputs": [],
   "source": [
    "y_train_pred_m1 = dt.predict(X_train_tr_m1)"
   ]
  },
  {
   "cell_type": "code",
   "execution_count": null,
   "metadata": {
    "ExecuteTime": {
     "end_time": "2021-04-15T13:51:21.922753Z",
     "start_time": "2021-04-15T13:51:15.925Z"
    }
   },
   "outputs": [],
   "source": [
    "score_model(y_train, y_train_pred_m1)"
   ]
  },
  {
   "cell_type": "code",
   "execution_count": null,
   "metadata": {
    "ExecuteTime": {
     "end_time": "2021-04-15T13:51:21.923360Z",
     "start_time": "2021-04-15T13:51:15.926Z"
    }
   },
   "outputs": [],
   "source": [
    "score_model(y_test, y_test_pred_m1)"
   ]
  },
  {
   "cell_type": "code",
   "execution_count": null,
   "metadata": {
    "ExecuteTime": {
     "end_time": "2021-04-15T13:51:21.923870Z",
     "start_time": "2021-04-15T13:51:15.928Z"
    }
   },
   "outputs": [],
   "source": [
    "# plot confusion matrix for DT classifier\n",
    "plot_confusion_matrix(dt, X_train_tr_m1, y_train, cmap=plt.cm.Blues, \n",
    "                      display_labels=['No Churn', 'Churn'])\n",
    "plt.grid(False)     \n",
    "plt.tight_layout()\n",
    "plt.show()\n",
    "# change paper color in plt"
   ]
  },
  {
   "cell_type": "code",
   "execution_count": null,
   "metadata": {
    "ExecuteTime": {
     "end_time": "2021-04-15T13:51:21.924547Z",
     "start_time": "2021-04-15T13:51:15.928Z"
    }
   },
   "outputs": [],
   "source": [
    "plot_confusion_matrix(dt, X_test_tr_m1, y_test, cmap=plt.cm.Blues )\n",
    "#                       display_labels=['No Churn', 'Churn'])\n",
    "plt.grid(False)     \n",
    "plt.tight_layout()\n",
    "plt.show()"
   ]
  },
  {
   "cell_type": "code",
   "execution_count": null,
   "metadata": {
    "ExecuteTime": {
     "end_time": "2021-04-15T13:51:21.925160Z",
     "start_time": "2021-04-15T13:51:15.931Z"
    }
   },
   "outputs": [],
   "source": [
    "# Plot and show decision tree\n",
    "plt.figure(figsize=(12,12), dpi=500)\n",
    "tree.plot_tree(dt, \n",
    "               feature_names=X_train_tr_m1.columns,\n",
    "               class_names=np.unique(y).astype('str'),\n",
    "               filled=True, rounded=True)\n",
    "plt.tight_layout()\n",
    "plt.show()"
   ]
  },
  {
   "cell_type": "markdown",
   "metadata": {},
   "source": [
    "### m2 Logistic Regression"
   ]
  },
  {
   "cell_type": "markdown",
   "metadata": {},
   "source": [
    "#### Instantiate Models"
   ]
  },
  {
   "cell_type": "code",
   "execution_count": 29,
   "metadata": {
    "ExecuteTime": {
     "end_time": "2021-04-15T13:59:38.248395Z",
     "start_time": "2021-04-15T13:59:38.243770Z"
    }
   },
   "outputs": [],
   "source": [
    "# now let us contruct some pipelines of our choice.\n",
    "jobs = 4\n",
    "    \n",
    "model_lr = LogisticRegression(random_state=SEED, fit_intercept=False, max_iter=500, n_jobs=jobs)\n",
    "# model_lr.get_params().keys()"
   ]
  },
  {
   "cell_type": "markdown",
   "metadata": {},
   "source": [
    "#### Set Grid Params"
   ]
  },
  {
   "cell_type": "code",
   "execution_count": 30,
   "metadata": {
    "ExecuteTime": {
     "end_time": "2021-04-15T13:59:39.859113Z",
     "start_time": "2021-04-15T13:59:39.852880Z"
    }
   },
   "outputs": [],
   "source": [
    "# Define the grid\n",
    "c_params = [0.001, 0.01, 0.1, 1, 10, 100, 1000]\n",
    "\n",
    "grid_params_lr = [{'C' : c_params, 'solver' : ['liblinear', 'saga'], \n",
    "                   'penalty': ['l1', 'l2'], \n",
    "                   'class_weight' : [None, 'balanced', \n",
    "                                         {1:2, 0:1}, {1:3, 0:1}, {1:5, 0:1}]}]\n",
    "\n",
    "# grid_params_rf = "
   ]
  },
  {
   "cell_type": "code",
   "execution_count": 31,
   "metadata": {
    "ExecuteTime": {
     "end_time": "2021-04-15T13:59:41.871859Z",
     "start_time": "2021-04-15T13:59:41.865032Z"
    }
   },
   "outputs": [],
   "source": [
    "# set common scoring metrics for use across models\n",
    "scoring = { 'roc_auc' : make_scorer(roc_auc_score, greater_is_better=True,\n",
    "                             needs_threshold=False),\n",
    "            'accuracy': make_scorer(accuracy_score),\n",
    "            'precision': make_scorer(precision_score),\n",
    "            'recall': make_scorer(recall_score),\n",
    "            'f1': make_scorer(f1_score)}"
   ]
  },
  {
   "cell_type": "markdown",
   "metadata": {},
   "source": [
    "#### GridSearch CVs"
   ]
  },
  {
   "cell_type": "code",
   "execution_count": 32,
   "metadata": {
    "ExecuteTime": {
     "end_time": "2021-04-15T13:59:43.648056Z",
     "start_time": "2021-04-15T13:59:43.641223Z"
    }
   },
   "outputs": [],
   "source": [
    "# \n",
    "gs_lr = GridSearchCV(estimator=model_lr, param_grid=grid_params_lr, \n",
    "                  scoring=scoring, refit='roc_auc', \n",
    "                  cv=StratifiedKFold(n_splits=5, random_state=SEED, \n",
    "                                     shuffle=True))"
   ]
  },
  {
   "cell_type": "code",
   "execution_count": null,
   "metadata": {
    "ExecuteTime": {
     "end_time": "2021-04-15T13:51:21.928558Z",
     "start_time": "2021-04-15T13:51:15.938Z"
    }
   },
   "outputs": [],
   "source": [
    "# List of pipelines for iterating through each of them\n",
    "grids = [gs_lr]\n",
    "\n",
    "# Creating a dict for our reference\n",
    "grid_dict = {0: 'Logistic Regression', \n",
    "        1: 'Random Forest',\n",
    "        2: 'Support Vector Machine'}"
   ]
  },
  {
   "cell_type": "markdown",
   "metadata": {},
   "source": [
    "#### Run GridSearch"
   ]
  },
  {
   "cell_type": "code",
   "execution_count": 141,
   "metadata": {
    "ExecuteTime": {
     "end_time": "2021-04-15T21:41:54.787084Z",
     "start_time": "2021-04-15T21:41:43.336201Z"
    }
   },
   "outputs": [
    {
     "data": {
      "text/plain": [
       "GridSearchCV(cv=StratifiedKFold(n_splits=5, random_state=19, shuffle=True),\n",
       "             estimator=LogisticRegression(fit_intercept=False, max_iter=500,\n",
       "                                          n_jobs=4, random_state=19),\n",
       "             param_grid=[{'C': [0.001, 0.01, 0.1, 1, 10, 100, 1000],\n",
       "                          'class_weight': [None, 'balanced', {0: 1, 1: 2},\n",
       "                                           {0: 1, 1: 3}, {0: 1, 1: 5}],\n",
       "                          'penalty': ['l1', 'l2'],\n",
       "                          'solver': ['liblinear', 'saga']}],\n",
       "             refit='roc_auc',\n",
       "             scoring={'accuracy': make_scorer(accuracy_score),\n",
       "                      'f1': make_scorer(f1_score),\n",
       "                      'precision': make_scorer(precision_score),\n",
       "                      'recall': make_scorer(recall_score),\n",
       "                      'roc_auc': make_scorer(roc_auc_score)})"
      ]
     },
     "execution_count": 141,
     "metadata": {},
     "output_type": "execute_result"
    }
   ],
   "source": [
    "# Fit the training data\n",
    "gs_lr.fit(X_train2, y_train)"
   ]
  },
  {
   "cell_type": "markdown",
   "metadata": {},
   "source": [
    "#### CV Results Metrics"
   ]
  },
  {
   "cell_type": "code",
   "execution_count": 142,
   "metadata": {
    "ExecuteTime": {
     "end_time": "2021-04-15T21:42:55.886616Z",
     "start_time": "2021-04-15T21:42:55.851323Z"
    }
   },
   "outputs": [
    {
     "data": {
      "text/html": [
       "<div>\n",
       "<style scoped>\n",
       "    .dataframe tbody tr th:only-of-type {\n",
       "        vertical-align: middle;\n",
       "    }\n",
       "\n",
       "    .dataframe tbody tr th {\n",
       "        vertical-align: top;\n",
       "    }\n",
       "\n",
       "    .dataframe thead th {\n",
       "        text-align: right;\n",
       "    }\n",
       "</style>\n",
       "<table border=\"1\" class=\"dataframe\">\n",
       "  <thead>\n",
       "    <tr style=\"text-align: right;\">\n",
       "      <th></th>\n",
       "      <th>params</th>\n",
       "      <th>mean_test_roc_auc</th>\n",
       "      <th>mean_test_accuracy</th>\n",
       "      <th>mean_test_precision</th>\n",
       "      <th>mean_test_recall</th>\n",
       "      <th>mean_test_f1</th>\n",
       "      <th>rank_test_roc_auc</th>\n",
       "      <th>rank_test_recall</th>\n",
       "    </tr>\n",
       "  </thead>\n",
       "  <tbody>\n",
       "    <tr>\n",
       "      <th>61</th>\n",
       "      <td>{'C': 1, 'class_weight': None, 'penalty': 'l1', 'solver': 'saga'}</td>\n",
       "      <td>0.757</td>\n",
       "      <td>0.695</td>\n",
       "      <td>0.462</td>\n",
       "      <td>0.889</td>\n",
       "      <td>0.608</td>\n",
       "      <td>1</td>\n",
       "      <td>105</td>\n",
       "    </tr>\n",
       "    <tr>\n",
       "      <th>60</th>\n",
       "      <td>{'C': 1, 'class_weight': None, 'penalty': 'l1', 'solver': 'liblinear'}</td>\n",
       "      <td>0.757</td>\n",
       "      <td>0.695</td>\n",
       "      <td>0.461</td>\n",
       "      <td>0.889</td>\n",
       "      <td>0.607</td>\n",
       "      <td>2</td>\n",
       "      <td>105</td>\n",
       "    </tr>\n",
       "    <tr>\n",
       "      <th>62</th>\n",
       "      <td>{'C': 1, 'class_weight': None, 'penalty': 'l2', 'solver': 'liblinear'}</td>\n",
       "      <td>0.757</td>\n",
       "      <td>0.695</td>\n",
       "      <td>0.462</td>\n",
       "      <td>0.888</td>\n",
       "      <td>0.607</td>\n",
       "      <td>3</td>\n",
       "      <td>121</td>\n",
       "    </tr>\n",
       "    <tr>\n",
       "      <th>63</th>\n",
       "      <td>{'C': 1, 'class_weight': None, 'penalty': 'l2', 'solver': 'saga'}</td>\n",
       "      <td>0.757</td>\n",
       "      <td>0.695</td>\n",
       "      <td>0.462</td>\n",
       "      <td>0.888</td>\n",
       "      <td>0.607</td>\n",
       "      <td>3</td>\n",
       "      <td>121</td>\n",
       "    </tr>\n",
       "    <tr>\n",
       "      <th>121</th>\n",
       "      <td>{'C': 1000, 'class_weight': None, 'penalty': 'l1', 'solver': 'saga'}</td>\n",
       "      <td>0.757</td>\n",
       "      <td>0.695</td>\n",
       "      <td>0.461</td>\n",
       "      <td>0.889</td>\n",
       "      <td>0.607</td>\n",
       "      <td>5</td>\n",
       "      <td>105</td>\n",
       "    </tr>\n",
       "    <tr>\n",
       "      <th>80</th>\n",
       "      <td>{'C': 10, 'class_weight': None, 'penalty': 'l1', 'solver': 'liblinear'}</td>\n",
       "      <td>0.757</td>\n",
       "      <td>0.695</td>\n",
       "      <td>0.461</td>\n",
       "      <td>0.889</td>\n",
       "      <td>0.607</td>\n",
       "      <td>5</td>\n",
       "      <td>105</td>\n",
       "    </tr>\n",
       "    <tr>\n",
       "      <th>82</th>\n",
       "      <td>{'C': 10, 'class_weight': None, 'penalty': 'l2', 'solver': 'liblinear'}</td>\n",
       "      <td>0.757</td>\n",
       "      <td>0.695</td>\n",
       "      <td>0.461</td>\n",
       "      <td>0.889</td>\n",
       "      <td>0.607</td>\n",
       "      <td>5</td>\n",
       "      <td>105</td>\n",
       "    </tr>\n",
       "    <tr>\n",
       "      <th>83</th>\n",
       "      <td>{'C': 10, 'class_weight': None, 'penalty': 'l2', 'solver': 'saga'}</td>\n",
       "      <td>0.757</td>\n",
       "      <td>0.695</td>\n",
       "      <td>0.461</td>\n",
       "      <td>0.889</td>\n",
       "      <td>0.607</td>\n",
       "      <td>5</td>\n",
       "      <td>105</td>\n",
       "    </tr>\n",
       "    <tr>\n",
       "      <th>123</th>\n",
       "      <td>{'C': 1000, 'class_weight': None, 'penalty': 'l2', 'solver': 'saga'}</td>\n",
       "      <td>0.757</td>\n",
       "      <td>0.695</td>\n",
       "      <td>0.461</td>\n",
       "      <td>0.889</td>\n",
       "      <td>0.607</td>\n",
       "      <td>5</td>\n",
       "      <td>105</td>\n",
       "    </tr>\n",
       "    <tr>\n",
       "      <th>100</th>\n",
       "      <td>{'C': 100, 'class_weight': None, 'penalty': 'l1', 'solver': 'liblinear'}</td>\n",
       "      <td>0.757</td>\n",
       "      <td>0.695</td>\n",
       "      <td>0.461</td>\n",
       "      <td>0.889</td>\n",
       "      <td>0.607</td>\n",
       "      <td>5</td>\n",
       "      <td>105</td>\n",
       "    </tr>\n",
       "    <tr>\n",
       "      <th>101</th>\n",
       "      <td>{'C': 100, 'class_weight': None, 'penalty': 'l1', 'solver': 'saga'}</td>\n",
       "      <td>0.757</td>\n",
       "      <td>0.695</td>\n",
       "      <td>0.461</td>\n",
       "      <td>0.889</td>\n",
       "      <td>0.607</td>\n",
       "      <td>5</td>\n",
       "      <td>105</td>\n",
       "    </tr>\n",
       "    <tr>\n",
       "      <th>102</th>\n",
       "      <td>{'C': 100, 'class_weight': None, 'penalty': 'l2', 'solver': 'liblinear'}</td>\n",
       "      <td>0.757</td>\n",
       "      <td>0.695</td>\n",
       "      <td>0.461</td>\n",
       "      <td>0.889</td>\n",
       "      <td>0.607</td>\n",
       "      <td>5</td>\n",
       "      <td>105</td>\n",
       "    </tr>\n",
       "    <tr>\n",
       "      <th>103</th>\n",
       "      <td>{'C': 100, 'class_weight': None, 'penalty': 'l2', 'solver': 'saga'}</td>\n",
       "      <td>0.757</td>\n",
       "      <td>0.695</td>\n",
       "      <td>0.461</td>\n",
       "      <td>0.889</td>\n",
       "      <td>0.607</td>\n",
       "      <td>5</td>\n",
       "      <td>105</td>\n",
       "    </tr>\n",
       "    <tr>\n",
       "      <th>120</th>\n",
       "      <td>{'C': 1000, 'class_weight': None, 'penalty': 'l1', 'solver': 'liblinear'}</td>\n",
       "      <td>0.757</td>\n",
       "      <td>0.695</td>\n",
       "      <td>0.461</td>\n",
       "      <td>0.889</td>\n",
       "      <td>0.607</td>\n",
       "      <td>5</td>\n",
       "      <td>105</td>\n",
       "    </tr>\n",
       "    <tr>\n",
       "      <th>81</th>\n",
       "      <td>{'C': 10, 'class_weight': None, 'penalty': 'l1', 'solver': 'saga'}</td>\n",
       "      <td>0.757</td>\n",
       "      <td>0.695</td>\n",
       "      <td>0.461</td>\n",
       "      <td>0.889</td>\n",
       "      <td>0.607</td>\n",
       "      <td>15</td>\n",
       "      <td>105</td>\n",
       "    </tr>\n",
       "    <tr>\n",
       "      <th>122</th>\n",
       "      <td>{'C': 1000, 'class_weight': None, 'penalty': 'l2', 'solver': 'liblinear'}</td>\n",
       "      <td>0.757</td>\n",
       "      <td>0.695</td>\n",
       "      <td>0.461</td>\n",
       "      <td>0.889</td>\n",
       "      <td>0.607</td>\n",
       "      <td>15</td>\n",
       "      <td>105</td>\n",
       "    </tr>\n",
       "    <tr>\n",
       "      <th>50</th>\n",
       "      <td>{'C': 0.1, 'class_weight': {1: 2, 0: 1}, 'penalty': 'l2', 'solver': 'liblinear'}</td>\n",
       "      <td>0.757</td>\n",
       "      <td>0.692</td>\n",
       "      <td>0.459</td>\n",
       "      <td>0.896</td>\n",
       "      <td>0.606</td>\n",
       "      <td>17</td>\n",
       "      <td>67</td>\n",
       "    </tr>\n",
       "    <tr>\n",
       "      <th>51</th>\n",
       "      <td>{'C': 0.1, 'class_weight': {1: 2, 0: 1}, 'penalty': 'l2', 'solver': 'saga'}</td>\n",
       "      <td>0.757</td>\n",
       "      <td>0.692</td>\n",
       "      <td>0.459</td>\n",
       "      <td>0.896</td>\n",
       "      <td>0.606</td>\n",
       "      <td>17</td>\n",
       "      <td>67</td>\n",
       "    </tr>\n",
       "    <tr>\n",
       "      <th>48</th>\n",
       "      <td>{'C': 0.1, 'class_weight': {1: 2, 0: 1}, 'penalty': 'l1', 'solver': 'liblinear'}</td>\n",
       "      <td>0.757</td>\n",
       "      <td>0.691</td>\n",
       "      <td>0.458</td>\n",
       "      <td>0.896</td>\n",
       "      <td>0.606</td>\n",
       "      <td>19</td>\n",
       "      <td>55</td>\n",
       "    </tr>\n",
       "    <tr>\n",
       "      <th>49</th>\n",
       "      <td>{'C': 0.1, 'class_weight': {1: 2, 0: 1}, 'penalty': 'l1', 'solver': 'saga'}</td>\n",
       "      <td>0.757</td>\n",
       "      <td>0.691</td>\n",
       "      <td>0.458</td>\n",
       "      <td>0.896</td>\n",
       "      <td>0.606</td>\n",
       "      <td>19</td>\n",
       "      <td>55</td>\n",
       "    </tr>\n",
       "  </tbody>\n",
       "</table>\n",
       "</div>"
      ],
      "text/plain": [
       "                                                                               params  \\\n",
       "61                  {'C': 1, 'class_weight': None, 'penalty': 'l1', 'solver': 'saga'}   \n",
       "60             {'C': 1, 'class_weight': None, 'penalty': 'l1', 'solver': 'liblinear'}   \n",
       "62             {'C': 1, 'class_weight': None, 'penalty': 'l2', 'solver': 'liblinear'}   \n",
       "63                  {'C': 1, 'class_weight': None, 'penalty': 'l2', 'solver': 'saga'}   \n",
       "121              {'C': 1000, 'class_weight': None, 'penalty': 'l1', 'solver': 'saga'}   \n",
       "80            {'C': 10, 'class_weight': None, 'penalty': 'l1', 'solver': 'liblinear'}   \n",
       "82            {'C': 10, 'class_weight': None, 'penalty': 'l2', 'solver': 'liblinear'}   \n",
       "83                 {'C': 10, 'class_weight': None, 'penalty': 'l2', 'solver': 'saga'}   \n",
       "123              {'C': 1000, 'class_weight': None, 'penalty': 'l2', 'solver': 'saga'}   \n",
       "100          {'C': 100, 'class_weight': None, 'penalty': 'l1', 'solver': 'liblinear'}   \n",
       "101               {'C': 100, 'class_weight': None, 'penalty': 'l1', 'solver': 'saga'}   \n",
       "102          {'C': 100, 'class_weight': None, 'penalty': 'l2', 'solver': 'liblinear'}   \n",
       "103               {'C': 100, 'class_weight': None, 'penalty': 'l2', 'solver': 'saga'}   \n",
       "120         {'C': 1000, 'class_weight': None, 'penalty': 'l1', 'solver': 'liblinear'}   \n",
       "81                 {'C': 10, 'class_weight': None, 'penalty': 'l1', 'solver': 'saga'}   \n",
       "122         {'C': 1000, 'class_weight': None, 'penalty': 'l2', 'solver': 'liblinear'}   \n",
       "50   {'C': 0.1, 'class_weight': {1: 2, 0: 1}, 'penalty': 'l2', 'solver': 'liblinear'}   \n",
       "51        {'C': 0.1, 'class_weight': {1: 2, 0: 1}, 'penalty': 'l2', 'solver': 'saga'}   \n",
       "48   {'C': 0.1, 'class_weight': {1: 2, 0: 1}, 'penalty': 'l1', 'solver': 'liblinear'}   \n",
       "49        {'C': 0.1, 'class_weight': {1: 2, 0: 1}, 'penalty': 'l1', 'solver': 'saga'}   \n",
       "\n",
       "     mean_test_roc_auc  mean_test_accuracy  mean_test_precision  \\\n",
       "61               0.757               0.695                0.462   \n",
       "60               0.757               0.695                0.461   \n",
       "62               0.757               0.695                0.462   \n",
       "63               0.757               0.695                0.462   \n",
       "121              0.757               0.695                0.461   \n",
       "80               0.757               0.695                0.461   \n",
       "82               0.757               0.695                0.461   \n",
       "83               0.757               0.695                0.461   \n",
       "123              0.757               0.695                0.461   \n",
       "100              0.757               0.695                0.461   \n",
       "101              0.757               0.695                0.461   \n",
       "102              0.757               0.695                0.461   \n",
       "103              0.757               0.695                0.461   \n",
       "120              0.757               0.695                0.461   \n",
       "81               0.757               0.695                0.461   \n",
       "122              0.757               0.695                0.461   \n",
       "50               0.757               0.692                0.459   \n",
       "51               0.757               0.692                0.459   \n",
       "48               0.757               0.691                0.458   \n",
       "49               0.757               0.691                0.458   \n",
       "\n",
       "     mean_test_recall  mean_test_f1  rank_test_roc_auc  rank_test_recall  \n",
       "61              0.889         0.608                  1               105  \n",
       "60              0.889         0.607                  2               105  \n",
       "62              0.888         0.607                  3               121  \n",
       "63              0.888         0.607                  3               121  \n",
       "121             0.889         0.607                  5               105  \n",
       "80              0.889         0.607                  5               105  \n",
       "82              0.889         0.607                  5               105  \n",
       "83              0.889         0.607                  5               105  \n",
       "123             0.889         0.607                  5               105  \n",
       "100             0.889         0.607                  5               105  \n",
       "101             0.889         0.607                  5               105  \n",
       "102             0.889         0.607                  5               105  \n",
       "103             0.889         0.607                  5               105  \n",
       "120             0.889         0.607                  5               105  \n",
       "81              0.889         0.607                 15               105  \n",
       "122             0.889         0.607                 15               105  \n",
       "50              0.896         0.606                 17                67  \n",
       "51              0.896         0.606                 17                67  \n",
       "48              0.896         0.606                 19                55  \n",
       "49              0.896         0.606                 19                55  "
      ]
     },
     "execution_count": 142,
     "metadata": {},
     "output_type": "execute_result"
    }
   ],
   "source": [
    "# capture gridsearch results into dataframe\n",
    "cv_results = pd.DataFrame.from_dict(gs_lr.cv_results_)\n",
    "\n",
    "# key metrics to evaluate model performance\n",
    "metrics = ['params', 'mean_test_roc_auc', 'mean_test_accuracy', \n",
    "           'mean_test_precision', 'mean_test_recall', 'mean_test_f1', \n",
    "           'rank_test_roc_auc', 'rank_test_recall']\n",
    "\n",
    "cv_results_metrics = cv_results.loc[:, metrics]\n",
    "cv_results_metrics.sort_values(by=['rank_test_roc_auc'], inplace=True)\n",
    "\n",
    "cv_results_metrics[:20]"
   ]
  },
  {
   "cell_type": "code",
   "execution_count": 113,
   "metadata": {
    "ExecuteTime": {
     "end_time": "2021-04-15T21:33:25.186697Z",
     "start_time": "2021-04-15T21:33:25.056793Z"
    }
   },
   "outputs": [
    {
     "data": {
      "image/png": "[encoded data removed]",
      "text/plain": [
       "<Figure size 432x288 with 2 Axes>"
      ]
     },
     "metadata": {},
     "output_type": "display_data"
    }
   ],
   "source": [
    "# print confusion matrix for best model\n",
    "best_model_lr = gs_lr.best_estimator_\n",
    "display_confusion(best_model_lr, X_train2, y_train, labels=['No Churn', 'Churn'])"
   ]
  },
  {
   "cell_type": "code",
   "execution_count": 135,
   "metadata": {
    "ExecuteTime": {
     "end_time": "2021-04-15T21:40:39.140380Z",
     "start_time": "2021-04-15T21:40:39.113773Z"
    }
   },
   "outputs": [
    {
     "ename": "ValueError",
     "evalue": "Length of values (18) does not match length of index (12)",
     "output_type": "error",
     "traceback": [
      "\u001b[0;31m---------------------------------------------------------------------------\u001b[0m",
      "\u001b[0;31mValueError\u001b[0m                                Traceback (most recent call last)",
      "\u001b[0;32m<ipython-input-135-289874dd9fec>\u001b[0m in \u001b[0;36m<module>\u001b[0;34m\u001b[0m\n\u001b[1;32m      1\u001b[0m \u001b[0mcoef_table\u001b[0m \u001b[0;34m=\u001b[0m \u001b[0mpd\u001b[0m\u001b[0;34m.\u001b[0m\u001b[0mDataFrame\u001b[0m\u001b[0;34m(\u001b[0m\u001b[0mX_train2\u001b[0m\u001b[0;34m.\u001b[0m\u001b[0mcolumns\u001b[0m\u001b[0;34m,\u001b[0m \u001b[0mcolumns\u001b[0m\u001b[0;34m=\u001b[0m\u001b[0;34m[\u001b[0m\u001b[0;34m'feature'\u001b[0m\u001b[0;34m]\u001b[0m\u001b[0;34m)\u001b[0m\u001b[0;34m\u001b[0m\u001b[0;34m\u001b[0m\u001b[0m\n\u001b[0;32m----> 2\u001b[0;31m \u001b[0mcoef_table\u001b[0m\u001b[0;34m.\u001b[0m\u001b[0minsert\u001b[0m\u001b[0;34m(\u001b[0m\u001b[0;36m1\u001b[0m\u001b[0;34m,\u001b[0m \u001b[0;34m\"coef\"\u001b[0m\u001b[0;34m,\u001b[0m \u001b[0mbest_model_lr\u001b[0m\u001b[0;34m.\u001b[0m\u001b[0mcoef_\u001b[0m\u001b[0;34m.\u001b[0m\u001b[0mtranspose\u001b[0m\u001b[0;34m(\u001b[0m\u001b[0;34m)\u001b[0m\u001b[0;34m)\u001b[0m\u001b[0;34m\u001b[0m\u001b[0;34m\u001b[0m\u001b[0m\n\u001b[0m\u001b[1;32m      3\u001b[0m \u001b[0mcoef_table\u001b[0m\u001b[0;34m\u001b[0m\u001b[0;34m\u001b[0m\u001b[0m\n",
      "\u001b[0;32m~/opt/anaconda3/envs/learn-env/lib/python3.8/site-packages/pandas/core/frame.py\u001b[0m in \u001b[0;36minsert\u001b[0;34m(self, loc, column, value, allow_duplicates)\u001b[0m\n\u001b[1;32m   3621\u001b[0m         \"\"\"\n\u001b[1;32m   3622\u001b[0m         \u001b[0mself\u001b[0m\u001b[0;34m.\u001b[0m\u001b[0m_ensure_valid_index\u001b[0m\u001b[0;34m(\u001b[0m\u001b[0mvalue\u001b[0m\u001b[0;34m)\u001b[0m\u001b[0;34m\u001b[0m\u001b[0;34m\u001b[0m\u001b[0m\n\u001b[0;32m-> 3623\u001b[0;31m         \u001b[0mvalue\u001b[0m \u001b[0;34m=\u001b[0m \u001b[0mself\u001b[0m\u001b[0;34m.\u001b[0m\u001b[0m_sanitize_column\u001b[0m\u001b[0;34m(\u001b[0m\u001b[0mcolumn\u001b[0m\u001b[0;34m,\u001b[0m \u001b[0mvalue\u001b[0m\u001b[0;34m,\u001b[0m \u001b[0mbroadcast\u001b[0m\u001b[0;34m=\u001b[0m\u001b[0;32mFalse\u001b[0m\u001b[0;34m)\u001b[0m\u001b[0;34m\u001b[0m\u001b[0;34m\u001b[0m\u001b[0m\n\u001b[0m\u001b[1;32m   3624\u001b[0m         \u001b[0mself\u001b[0m\u001b[0;34m.\u001b[0m\u001b[0m_mgr\u001b[0m\u001b[0;34m.\u001b[0m\u001b[0minsert\u001b[0m\u001b[0;34m(\u001b[0m\u001b[0mloc\u001b[0m\u001b[0;34m,\u001b[0m \u001b[0mcolumn\u001b[0m\u001b[0;34m,\u001b[0m \u001b[0mvalue\u001b[0m\u001b[0;34m,\u001b[0m \u001b[0mallow_duplicates\u001b[0m\u001b[0;34m=\u001b[0m\u001b[0mallow_duplicates\u001b[0m\u001b[0;34m)\u001b[0m\u001b[0;34m\u001b[0m\u001b[0;34m\u001b[0m\u001b[0m\n\u001b[1;32m   3625\u001b[0m \u001b[0;34m\u001b[0m\u001b[0m\n",
      "\u001b[0;32m~/opt/anaconda3/envs/learn-env/lib/python3.8/site-packages/pandas/core/frame.py\u001b[0m in \u001b[0;36m_sanitize_column\u001b[0;34m(self, key, value, broadcast)\u001b[0m\n\u001b[1;32m   3762\u001b[0m \u001b[0;34m\u001b[0m\u001b[0m\n\u001b[1;32m   3763\u001b[0m             \u001b[0;31m# turn me into an ndarray\u001b[0m\u001b[0;34m\u001b[0m\u001b[0;34m\u001b[0m\u001b[0;34m\u001b[0m\u001b[0m\n\u001b[0;32m-> 3764\u001b[0;31m             \u001b[0mvalue\u001b[0m \u001b[0;34m=\u001b[0m \u001b[0msanitize_index\u001b[0m\u001b[0;34m(\u001b[0m\u001b[0mvalue\u001b[0m\u001b[0;34m,\u001b[0m \u001b[0mself\u001b[0m\u001b[0;34m.\u001b[0m\u001b[0mindex\u001b[0m\u001b[0;34m)\u001b[0m\u001b[0;34m\u001b[0m\u001b[0;34m\u001b[0m\u001b[0m\n\u001b[0m\u001b[1;32m   3765\u001b[0m             \u001b[0;32mif\u001b[0m \u001b[0;32mnot\u001b[0m \u001b[0misinstance\u001b[0m\u001b[0;34m(\u001b[0m\u001b[0mvalue\u001b[0m\u001b[0;34m,\u001b[0m \u001b[0;34m(\u001b[0m\u001b[0mnp\u001b[0m\u001b[0;34m.\u001b[0m\u001b[0mndarray\u001b[0m\u001b[0;34m,\u001b[0m \u001b[0mIndex\u001b[0m\u001b[0;34m)\u001b[0m\u001b[0;34m)\u001b[0m\u001b[0;34m:\u001b[0m\u001b[0;34m\u001b[0m\u001b[0;34m\u001b[0m\u001b[0m\n\u001b[1;32m   3766\u001b[0m                 \u001b[0;32mif\u001b[0m \u001b[0misinstance\u001b[0m\u001b[0;34m(\u001b[0m\u001b[0mvalue\u001b[0m\u001b[0;34m,\u001b[0m \u001b[0mlist\u001b[0m\u001b[0;34m)\u001b[0m \u001b[0;32mand\u001b[0m \u001b[0mlen\u001b[0m\u001b[0;34m(\u001b[0m\u001b[0mvalue\u001b[0m\u001b[0;34m)\u001b[0m \u001b[0;34m>\u001b[0m \u001b[0;36m0\u001b[0m\u001b[0;34m:\u001b[0m\u001b[0;34m\u001b[0m\u001b[0;34m\u001b[0m\u001b[0m\n",
      "\u001b[0;32m~/opt/anaconda3/envs/learn-env/lib/python3.8/site-packages/pandas/core/internals/construction.py\u001b[0m in \u001b[0;36msanitize_index\u001b[0;34m(data, index)\u001b[0m\n\u001b[1;32m    745\u001b[0m     \"\"\"\n\u001b[1;32m    746\u001b[0m     \u001b[0;32mif\u001b[0m \u001b[0mlen\u001b[0m\u001b[0;34m(\u001b[0m\u001b[0mdata\u001b[0m\u001b[0;34m)\u001b[0m \u001b[0;34m!=\u001b[0m \u001b[0mlen\u001b[0m\u001b[0;34m(\u001b[0m\u001b[0mindex\u001b[0m\u001b[0;34m)\u001b[0m\u001b[0;34m:\u001b[0m\u001b[0;34m\u001b[0m\u001b[0;34m\u001b[0m\u001b[0m\n\u001b[0;32m--> 747\u001b[0;31m         raise ValueError(\n\u001b[0m\u001b[1;32m    748\u001b[0m             \u001b[0;34m\"Length of values \"\u001b[0m\u001b[0;34m\u001b[0m\u001b[0;34m\u001b[0m\u001b[0m\n\u001b[1;32m    749\u001b[0m             \u001b[0;34mf\"({len(data)}) \"\u001b[0m\u001b[0;34m\u001b[0m\u001b[0;34m\u001b[0m\u001b[0m\n",
      "\u001b[0;31mValueError\u001b[0m: Length of values (18) does not match length of index (12)"
     ]
    }
   ],
   "source": [
    "coef_table = pd.DataFrame(X_train2.columns, columns=['feature'])\n",
    "coef_table.insert(1, \"coef\", best_model_lr.coef_.transpose())\n",
    "coef_table"
   ]
  },
  {
   "cell_type": "code",
   "execution_count": 136,
   "metadata": {
    "ExecuteTime": {
     "end_time": "2021-04-15T21:40:40.730812Z",
     "start_time": "2021-04-15T21:40:40.698748Z"
    }
   },
   "outputs": [
    {
     "ename": "ValueError",
     "evalue": "Could not interpret input 'coef'",
     "output_type": "error",
     "traceback": [
      "\u001b[0;31m---------------------------------------------------------------------------\u001b[0m",
      "\u001b[0;31mValueError\u001b[0m                                Traceback (most recent call last)",
      "\u001b[0;32m<ipython-input-136-28ab7bccb0c5>\u001b[0m in \u001b[0;36m<module>\u001b[0;34m\u001b[0m\n\u001b[1;32m      1\u001b[0m \u001b[0mfig\u001b[0m \u001b[0;34m=\u001b[0m \u001b[0mplt\u001b[0m\u001b[0;34m.\u001b[0m\u001b[0mfigure\u001b[0m\u001b[0;34m(\u001b[0m\u001b[0mfigsize\u001b[0m\u001b[0;34m=\u001b[0m\u001b[0;34m(\u001b[0m\u001b[0;36m18\u001b[0m\u001b[0;34m,\u001b[0m \u001b[0;36m8\u001b[0m\u001b[0;34m)\u001b[0m\u001b[0;34m)\u001b[0m\u001b[0;34m\u001b[0m\u001b[0;34m\u001b[0m\u001b[0m\n\u001b[0;32m----> 2\u001b[0;31m \u001b[0msns\u001b[0m\u001b[0;34m.\u001b[0m\u001b[0mbarplot\u001b[0m\u001b[0;34m(\u001b[0m\u001b[0mx\u001b[0m\u001b[0;34m=\u001b[0m\u001b[0;34m'feature'\u001b[0m\u001b[0;34m,\u001b[0m \u001b[0my\u001b[0m\u001b[0;34m=\u001b[0m\u001b[0;34m'coef'\u001b[0m\u001b[0;34m,\u001b[0m \u001b[0mdata\u001b[0m\u001b[0;34m=\u001b[0m\u001b[0mcoef_table\u001b[0m\u001b[0;34m,\u001b[0m \u001b[0mpalette\u001b[0m\u001b[0;34m=\u001b[0m\u001b[0;34m'vlag'\u001b[0m\u001b[0;34m)\u001b[0m\u001b[0;34m\u001b[0m\u001b[0;34m\u001b[0m\u001b[0m\n\u001b[0m\u001b[1;32m      3\u001b[0m \u001b[0;34m\u001b[0m\u001b[0m\n\u001b[1;32m      4\u001b[0m \u001b[0;31m# Legend, title and labels.\u001b[0m\u001b[0;34m\u001b[0m\u001b[0;34m\u001b[0m\u001b[0;34m\u001b[0m\u001b[0m\n\u001b[1;32m      5\u001b[0m \u001b[0mplt\u001b[0m\u001b[0;34m.\u001b[0m\u001b[0mtitle\u001b[0m\u001b[0;34m(\u001b[0m\u001b[0;34m'Model Coefficients by Feature'\u001b[0m\u001b[0;34m,\u001b[0m \u001b[0msize\u001b[0m\u001b[0;34m=\u001b[0m\u001b[0;36m20\u001b[0m\u001b[0;34m)\u001b[0m\u001b[0;34m\u001b[0m\u001b[0;34m\u001b[0m\u001b[0m\n",
      "\u001b[0;32m~/opt/anaconda3/envs/learn-env/lib/python3.8/site-packages/seaborn/_decorators.py\u001b[0m in \u001b[0;36minner_f\u001b[0;34m(*args, **kwargs)\u001b[0m\n\u001b[1;32m     44\u001b[0m             )\n\u001b[1;32m     45\u001b[0m         \u001b[0mkwargs\u001b[0m\u001b[0;34m.\u001b[0m\u001b[0mupdate\u001b[0m\u001b[0;34m(\u001b[0m\u001b[0;34m{\u001b[0m\u001b[0mk\u001b[0m\u001b[0;34m:\u001b[0m \u001b[0marg\u001b[0m \u001b[0;32mfor\u001b[0m \u001b[0mk\u001b[0m\u001b[0;34m,\u001b[0m \u001b[0marg\u001b[0m \u001b[0;32min\u001b[0m \u001b[0mzip\u001b[0m\u001b[0;34m(\u001b[0m\u001b[0msig\u001b[0m\u001b[0;34m.\u001b[0m\u001b[0mparameters\u001b[0m\u001b[0;34m,\u001b[0m \u001b[0margs\u001b[0m\u001b[0;34m)\u001b[0m\u001b[0;34m}\u001b[0m\u001b[0;34m)\u001b[0m\u001b[0;34m\u001b[0m\u001b[0;34m\u001b[0m\u001b[0m\n\u001b[0;32m---> 46\u001b[0;31m         \u001b[0;32mreturn\u001b[0m \u001b[0mf\u001b[0m\u001b[0;34m(\u001b[0m\u001b[0;34m**\u001b[0m\u001b[0mkwargs\u001b[0m\u001b[0;34m)\u001b[0m\u001b[0;34m\u001b[0m\u001b[0;34m\u001b[0m\u001b[0m\n\u001b[0m\u001b[1;32m     47\u001b[0m     \u001b[0;32mreturn\u001b[0m \u001b[0minner_f\u001b[0m\u001b[0;34m\u001b[0m\u001b[0;34m\u001b[0m\u001b[0m\n\u001b[1;32m     48\u001b[0m \u001b[0;34m\u001b[0m\u001b[0m\n",
      "\u001b[0;32m~/opt/anaconda3/envs/learn-env/lib/python3.8/site-packages/seaborn/categorical.py\u001b[0m in \u001b[0;36mbarplot\u001b[0;34m(x, y, hue, data, order, hue_order, estimator, ci, n_boot, units, seed, orient, color, palette, saturation, errcolor, errwidth, capsize, dodge, ax, **kwargs)\u001b[0m\n\u001b[1;32m   3167\u001b[0m ):\n\u001b[1;32m   3168\u001b[0m \u001b[0;34m\u001b[0m\u001b[0m\n\u001b[0;32m-> 3169\u001b[0;31m     plotter = _BarPlotter(x, y, hue, data, order, hue_order,\n\u001b[0m\u001b[1;32m   3170\u001b[0m                           \u001b[0mestimator\u001b[0m\u001b[0;34m,\u001b[0m \u001b[0mci\u001b[0m\u001b[0;34m,\u001b[0m \u001b[0mn_boot\u001b[0m\u001b[0;34m,\u001b[0m \u001b[0munits\u001b[0m\u001b[0;34m,\u001b[0m \u001b[0mseed\u001b[0m\u001b[0;34m,\u001b[0m\u001b[0;34m\u001b[0m\u001b[0;34m\u001b[0m\u001b[0m\n\u001b[1;32m   3171\u001b[0m                           \u001b[0morient\u001b[0m\u001b[0;34m,\u001b[0m \u001b[0mcolor\u001b[0m\u001b[0;34m,\u001b[0m \u001b[0mpalette\u001b[0m\u001b[0;34m,\u001b[0m \u001b[0msaturation\u001b[0m\u001b[0;34m,\u001b[0m\u001b[0;34m\u001b[0m\u001b[0;34m\u001b[0m\u001b[0m\n",
      "\u001b[0;32m~/opt/anaconda3/envs/learn-env/lib/python3.8/site-packages/seaborn/categorical.py\u001b[0m in \u001b[0;36m__init__\u001b[0;34m(self, x, y, hue, data, order, hue_order, estimator, ci, n_boot, units, seed, orient, color, palette, saturation, errcolor, errwidth, capsize, dodge)\u001b[0m\n\u001b[1;32m   1582\u001b[0m                  errwidth, capsize, dodge):\n\u001b[1;32m   1583\u001b[0m         \u001b[0;34m\"\"\"Initialize the plotter.\"\"\"\u001b[0m\u001b[0;34m\u001b[0m\u001b[0;34m\u001b[0m\u001b[0m\n\u001b[0;32m-> 1584\u001b[0;31m         self.establish_variables(x, y, hue, data, orient,\n\u001b[0m\u001b[1;32m   1585\u001b[0m                                  order, hue_order, units)\n\u001b[1;32m   1586\u001b[0m         \u001b[0mself\u001b[0m\u001b[0;34m.\u001b[0m\u001b[0mestablish_colors\u001b[0m\u001b[0;34m(\u001b[0m\u001b[0mcolor\u001b[0m\u001b[0;34m,\u001b[0m \u001b[0mpalette\u001b[0m\u001b[0;34m,\u001b[0m \u001b[0msaturation\u001b[0m\u001b[0;34m)\u001b[0m\u001b[0;34m\u001b[0m\u001b[0;34m\u001b[0m\u001b[0m\n",
      "\u001b[0;32m~/opt/anaconda3/envs/learn-env/lib/python3.8/site-packages/seaborn/categorical.py\u001b[0m in \u001b[0;36mestablish_variables\u001b[0;34m(self, x, y, hue, data, orient, order, hue_order, units)\u001b[0m\n\u001b[1;32m    151\u001b[0m                 \u001b[0;32mif\u001b[0m \u001b[0misinstance\u001b[0m\u001b[0;34m(\u001b[0m\u001b[0mvar\u001b[0m\u001b[0;34m,\u001b[0m \u001b[0mstr\u001b[0m\u001b[0;34m)\u001b[0m\u001b[0;34m:\u001b[0m\u001b[0;34m\u001b[0m\u001b[0;34m\u001b[0m\u001b[0m\n\u001b[1;32m    152\u001b[0m                     \u001b[0merr\u001b[0m \u001b[0;34m=\u001b[0m \u001b[0;34m\"Could not interpret input '{}'\"\u001b[0m\u001b[0;34m.\u001b[0m\u001b[0mformat\u001b[0m\u001b[0;34m(\u001b[0m\u001b[0mvar\u001b[0m\u001b[0;34m)\u001b[0m\u001b[0;34m\u001b[0m\u001b[0;34m\u001b[0m\u001b[0m\n\u001b[0;32m--> 153\u001b[0;31m                     \u001b[0;32mraise\u001b[0m \u001b[0mValueError\u001b[0m\u001b[0;34m(\u001b[0m\u001b[0merr\u001b[0m\u001b[0;34m)\u001b[0m\u001b[0;34m\u001b[0m\u001b[0;34m\u001b[0m\u001b[0m\n\u001b[0m\u001b[1;32m    154\u001b[0m \u001b[0;34m\u001b[0m\u001b[0m\n\u001b[1;32m    155\u001b[0m             \u001b[0;31m# Figure out the plotting orientation\u001b[0m\u001b[0;34m\u001b[0m\u001b[0;34m\u001b[0m\u001b[0;34m\u001b[0m\u001b[0m\n",
      "\u001b[0;31mValueError\u001b[0m: Could not interpret input 'coef'"
     ]
    },
    {
     "data": {
      "text/plain": [
       "<Figure size 1296x576 with 0 Axes>"
      ]
     },
     "metadata": {},
     "output_type": "display_data"
    }
   ],
   "source": [
    "\n",
    "fig = plt.figure(figsize=(18, 8))\n",
    "sns.barplot(x='feature', y='coef', data=coef_table, palette='vlag')\n",
    "\n",
    "# Legend, title and labels.\n",
    "plt.title('Model Coefficients by Feature', size=20)\n",
    "plt.xlabel('Feature', size=16)\n",
    "plt.ylabel('Model Coefficient', size=16)\n",
    "plt.xticks(rotation=-80)\n",
    "plt.tight_layout()\n",
    "plt.show()"
   ]
  },
  {
   "cell_type": "code",
   "execution_count": 81,
   "metadata": {
    "ExecuteTime": {
     "end_time": "2021-04-15T20:57:31.502702Z",
     "start_time": "2021-04-15T20:57:31.467351Z"
    }
   },
   "outputs": [
    {
     "ename": "ValueError",
     "evalue": "X has 9 features per sample; expecting 12",
     "output_type": "error",
     "traceback": [
      "\u001b[0;31m---------------------------------------------------------------------------\u001b[0m",
      "\u001b[0;31mValueError\u001b[0m                                Traceback (most recent call last)",
      "\u001b[0;32m<ipython-input-81-d0ce8336039c>\u001b[0m in \u001b[0;36m<module>\u001b[0;34m\u001b[0m\n\u001b[1;32m      1\u001b[0m \u001b[0;31m# Print the accuracy on test set\u001b[0m\u001b[0;34m\u001b[0m\u001b[0;34m\u001b[0m\u001b[0;34m\u001b[0m\u001b[0m\n\u001b[0;32m----> 2\u001b[0;31m \u001b[0mgs_lr\u001b[0m\u001b[0;34m.\u001b[0m\u001b[0mscore\u001b[0m\u001b[0;34m(\u001b[0m\u001b[0mX_test2\u001b[0m\u001b[0;34m,\u001b[0m \u001b[0my_test\u001b[0m\u001b[0;34m)\u001b[0m\u001b[0;34m\u001b[0m\u001b[0;34m\u001b[0m\u001b[0m\n\u001b[0m",
      "\u001b[0;32m~/opt/anaconda3/envs/learn-env/lib/python3.8/site-packages/sklearn/model_selection/_search.py\u001b[0m in \u001b[0;36mscore\u001b[0;34m(self, X, y)\u001b[0m\n\u001b[1;32m    456\u001b[0m                              % self.best_estimator_)\n\u001b[1;32m    457\u001b[0m         \u001b[0mscore\u001b[0m \u001b[0;34m=\u001b[0m \u001b[0mself\u001b[0m\u001b[0;34m.\u001b[0m\u001b[0mscorer_\u001b[0m\u001b[0;34m[\u001b[0m\u001b[0mself\u001b[0m\u001b[0;34m.\u001b[0m\u001b[0mrefit\u001b[0m\u001b[0;34m]\u001b[0m \u001b[0;32mif\u001b[0m \u001b[0mself\u001b[0m\u001b[0;34m.\u001b[0m\u001b[0mmultimetric_\u001b[0m \u001b[0;32melse\u001b[0m \u001b[0mself\u001b[0m\u001b[0;34m.\u001b[0m\u001b[0mscorer_\u001b[0m\u001b[0;34m\u001b[0m\u001b[0;34m\u001b[0m\u001b[0m\n\u001b[0;32m--> 458\u001b[0;31m         \u001b[0;32mreturn\u001b[0m \u001b[0mscore\u001b[0m\u001b[0;34m(\u001b[0m\u001b[0mself\u001b[0m\u001b[0;34m.\u001b[0m\u001b[0mbest_estimator_\u001b[0m\u001b[0;34m,\u001b[0m \u001b[0mX\u001b[0m\u001b[0;34m,\u001b[0m \u001b[0my\u001b[0m\u001b[0;34m)\u001b[0m\u001b[0;34m\u001b[0m\u001b[0;34m\u001b[0m\u001b[0m\n\u001b[0m\u001b[1;32m    459\u001b[0m \u001b[0;34m\u001b[0m\u001b[0m\n\u001b[1;32m    460\u001b[0m     \u001b[0;32mdef\u001b[0m \u001b[0m_check_is_fitted\u001b[0m\u001b[0;34m(\u001b[0m\u001b[0mself\u001b[0m\u001b[0;34m,\u001b[0m \u001b[0mmethod_name\u001b[0m\u001b[0;34m)\u001b[0m\u001b[0;34m:\u001b[0m\u001b[0;34m\u001b[0m\u001b[0;34m\u001b[0m\u001b[0m\n",
      "\u001b[0;32m~/opt/anaconda3/envs/learn-env/lib/python3.8/site-packages/sklearn/metrics/_scorer.py\u001b[0m in \u001b[0;36m__call__\u001b[0;34m(self, estimator, X, y_true, sample_weight)\u001b[0m\n\u001b[1;32m    167\u001b[0m                           \u001b[0mcategory\u001b[0m\u001b[0;34m=\u001b[0m\u001b[0mFutureWarning\u001b[0m\u001b[0;34m,\u001b[0m\u001b[0;34m\u001b[0m\u001b[0;34m\u001b[0m\u001b[0m\n\u001b[1;32m    168\u001b[0m                           stacklevel=2)\n\u001b[0;32m--> 169\u001b[0;31m         return self._score(partial(_cached_call, None), estimator, X, y_true,\n\u001b[0m\u001b[1;32m    170\u001b[0m                            sample_weight=sample_weight)\n\u001b[1;32m    171\u001b[0m \u001b[0;34m\u001b[0m\u001b[0m\n",
      "\u001b[0;32m~/opt/anaconda3/envs/learn-env/lib/python3.8/site-packages/sklearn/metrics/_scorer.py\u001b[0m in \u001b[0;36m_score\u001b[0;34m(self, method_caller, estimator, X, y_true, sample_weight)\u001b[0m\n\u001b[1;32m    204\u001b[0m         \"\"\"\n\u001b[1;32m    205\u001b[0m \u001b[0;34m\u001b[0m\u001b[0m\n\u001b[0;32m--> 206\u001b[0;31m         \u001b[0my_pred\u001b[0m \u001b[0;34m=\u001b[0m \u001b[0mmethod_caller\u001b[0m\u001b[0;34m(\u001b[0m\u001b[0mestimator\u001b[0m\u001b[0;34m,\u001b[0m \u001b[0;34m\"predict\"\u001b[0m\u001b[0;34m,\u001b[0m \u001b[0mX\u001b[0m\u001b[0;34m)\u001b[0m\u001b[0;34m\u001b[0m\u001b[0;34m\u001b[0m\u001b[0m\n\u001b[0m\u001b[1;32m    207\u001b[0m         \u001b[0;32mif\u001b[0m \u001b[0msample_weight\u001b[0m \u001b[0;32mis\u001b[0m \u001b[0;32mnot\u001b[0m \u001b[0;32mNone\u001b[0m\u001b[0;34m:\u001b[0m\u001b[0;34m\u001b[0m\u001b[0;34m\u001b[0m\u001b[0m\n\u001b[1;32m    208\u001b[0m             return self._sign * self._score_func(y_true, y_pred,\n",
      "\u001b[0;32m~/opt/anaconda3/envs/learn-env/lib/python3.8/site-packages/sklearn/metrics/_scorer.py\u001b[0m in \u001b[0;36m_cached_call\u001b[0;34m(cache, estimator, method, *args, **kwargs)\u001b[0m\n\u001b[1;32m     51\u001b[0m     \u001b[0;34m\"\"\"Call estimator with method and args and kwargs.\"\"\"\u001b[0m\u001b[0;34m\u001b[0m\u001b[0;34m\u001b[0m\u001b[0m\n\u001b[1;32m     52\u001b[0m     \u001b[0;32mif\u001b[0m \u001b[0mcache\u001b[0m \u001b[0;32mis\u001b[0m \u001b[0;32mNone\u001b[0m\u001b[0;34m:\u001b[0m\u001b[0;34m\u001b[0m\u001b[0;34m\u001b[0m\u001b[0m\n\u001b[0;32m---> 53\u001b[0;31m         \u001b[0;32mreturn\u001b[0m \u001b[0mgetattr\u001b[0m\u001b[0;34m(\u001b[0m\u001b[0mestimator\u001b[0m\u001b[0;34m,\u001b[0m \u001b[0mmethod\u001b[0m\u001b[0;34m)\u001b[0m\u001b[0;34m(\u001b[0m\u001b[0;34m*\u001b[0m\u001b[0margs\u001b[0m\u001b[0;34m,\u001b[0m \u001b[0;34m**\u001b[0m\u001b[0mkwargs\u001b[0m\u001b[0;34m)\u001b[0m\u001b[0;34m\u001b[0m\u001b[0;34m\u001b[0m\u001b[0m\n\u001b[0m\u001b[1;32m     54\u001b[0m \u001b[0;34m\u001b[0m\u001b[0m\n\u001b[1;32m     55\u001b[0m     \u001b[0;32mtry\u001b[0m\u001b[0;34m:\u001b[0m\u001b[0;34m\u001b[0m\u001b[0;34m\u001b[0m\u001b[0m\n",
      "\u001b[0;32m~/opt/anaconda3/envs/learn-env/lib/python3.8/site-packages/sklearn/linear_model/_base.py\u001b[0m in \u001b[0;36mpredict\u001b[0;34m(self, X)\u001b[0m\n\u001b[1;32m    305\u001b[0m             \u001b[0mPredicted\u001b[0m \u001b[0;32mclass\u001b[0m \u001b[0mlabel\u001b[0m \u001b[0mper\u001b[0m \u001b[0msample\u001b[0m\u001b[0;34m.\u001b[0m\u001b[0;34m\u001b[0m\u001b[0;34m\u001b[0m\u001b[0m\n\u001b[1;32m    306\u001b[0m         \"\"\"\n\u001b[0;32m--> 307\u001b[0;31m         \u001b[0mscores\u001b[0m \u001b[0;34m=\u001b[0m \u001b[0mself\u001b[0m\u001b[0;34m.\u001b[0m\u001b[0mdecision_function\u001b[0m\u001b[0;34m(\u001b[0m\u001b[0mX\u001b[0m\u001b[0;34m)\u001b[0m\u001b[0;34m\u001b[0m\u001b[0;34m\u001b[0m\u001b[0m\n\u001b[0m\u001b[1;32m    308\u001b[0m         \u001b[0;32mif\u001b[0m \u001b[0mlen\u001b[0m\u001b[0;34m(\u001b[0m\u001b[0mscores\u001b[0m\u001b[0;34m.\u001b[0m\u001b[0mshape\u001b[0m\u001b[0;34m)\u001b[0m \u001b[0;34m==\u001b[0m \u001b[0;36m1\u001b[0m\u001b[0;34m:\u001b[0m\u001b[0;34m\u001b[0m\u001b[0;34m\u001b[0m\u001b[0m\n\u001b[1;32m    309\u001b[0m             \u001b[0mindices\u001b[0m \u001b[0;34m=\u001b[0m \u001b[0;34m(\u001b[0m\u001b[0mscores\u001b[0m \u001b[0;34m>\u001b[0m \u001b[0;36m0\u001b[0m\u001b[0;34m)\u001b[0m\u001b[0;34m.\u001b[0m\u001b[0mastype\u001b[0m\u001b[0;34m(\u001b[0m\u001b[0mnp\u001b[0m\u001b[0;34m.\u001b[0m\u001b[0mint\u001b[0m\u001b[0;34m)\u001b[0m\u001b[0;34m\u001b[0m\u001b[0;34m\u001b[0m\u001b[0m\n",
      "\u001b[0;32m~/opt/anaconda3/envs/learn-env/lib/python3.8/site-packages/sklearn/linear_model/_base.py\u001b[0m in \u001b[0;36mdecision_function\u001b[0;34m(self, X)\u001b[0m\n\u001b[1;32m    284\u001b[0m         \u001b[0mn_features\u001b[0m \u001b[0;34m=\u001b[0m \u001b[0mself\u001b[0m\u001b[0;34m.\u001b[0m\u001b[0mcoef_\u001b[0m\u001b[0;34m.\u001b[0m\u001b[0mshape\u001b[0m\u001b[0;34m[\u001b[0m\u001b[0;36m1\u001b[0m\u001b[0;34m]\u001b[0m\u001b[0;34m\u001b[0m\u001b[0;34m\u001b[0m\u001b[0m\n\u001b[1;32m    285\u001b[0m         \u001b[0;32mif\u001b[0m \u001b[0mX\u001b[0m\u001b[0;34m.\u001b[0m\u001b[0mshape\u001b[0m\u001b[0;34m[\u001b[0m\u001b[0;36m1\u001b[0m\u001b[0;34m]\u001b[0m \u001b[0;34m!=\u001b[0m \u001b[0mn_features\u001b[0m\u001b[0;34m:\u001b[0m\u001b[0;34m\u001b[0m\u001b[0;34m\u001b[0m\u001b[0m\n\u001b[0;32m--> 286\u001b[0;31m             raise ValueError(\"X has %d features per sample; expecting %d\"\n\u001b[0m\u001b[1;32m    287\u001b[0m                              % (X.shape[1], n_features))\n\u001b[1;32m    288\u001b[0m \u001b[0;34m\u001b[0m\u001b[0m\n",
      "\u001b[0;31mValueError\u001b[0m: X has 9 features per sample; expecting 12"
     ]
    }
   ],
   "source": [
    "# Print the accuracy on test set\n",
    "gs_lr.score(X_test2, y_test)"
   ]
  },
  {
   "cell_type": "markdown",
   "metadata": {},
   "source": [
    "#### Statsmodel Logit"
   ]
  },
  {
   "cell_type": "code",
   "execution_count": 143,
   "metadata": {
    "ExecuteTime": {
     "end_time": "2021-04-15T21:43:07.059259Z",
     "start_time": "2021-04-15T21:43:06.993882Z"
    }
   },
   "outputs": [
    {
     "name": "stdout",
     "output_type": "stream",
     "text": [
      "Optimization terminated successfully.\n",
      "         Current function value: 0.407370\n",
      "         Iterations 8\n",
      "                           Logit Regression Results                           \n",
      "==============================================================================\n",
      "Dep. Variable:            churn_value   No. Observations:                 5634\n",
      "Model:                          Logit   Df Residuals:                     5622\n",
      "Method:                           MLE   Df Model:                           11\n",
      "Date:                Thu, 15 Apr 2021   Pseudo R-squ.:                  0.2959\n",
      "Time:                        17:43:07   Log-Likelihood:                -2295.1\n",
      "converged:                       True   LL-Null:                       -3259.7\n",
      "Covariance Type:            nonrobust   LLR p-value:                     0.000\n",
      "======================================================================================\n",
      "                         coef    std err          z      P>|z|      [0.025      0.975]\n",
      "--------------------------------------------------------------------------------------\n",
      "const                 -1.7290      0.055    -31.551      0.000      -1.836      -1.622\n",
      "partner                0.1707      0.042      4.090      0.000       0.089       0.252\n",
      "dependents            -0.6913      0.056    -12.419      0.000      -0.800      -0.582\n",
      "tenure_months         -0.7735      0.061    -12.682      0.000      -0.893      -0.654\n",
      "paperless_billing      0.1901      0.041      4.654      0.000       0.110       0.270\n",
      "monthly_charges       -0.6019      0.145     -4.151      0.000      -0.886      -0.318\n",
      "internet_svc_dsl       0.5987      0.086      6.945      0.000       0.430       0.768\n",
      "internet_svc_fiber     1.3829      0.152      9.080      0.000       1.084       1.681\n",
      "contract_1yr          -0.3489      0.048     -7.222      0.000      -0.444      -0.254\n",
      "contract_2yr          -0.6385      0.080     -7.960      0.000      -0.796      -0.481\n",
      "streams                0.4528      0.062      7.306      0.000       0.331       0.574\n",
      "pmt_meth_auto         -0.1392      0.041     -3.435      0.001      -0.219      -0.060\n",
      "======================================================================================\n"
     ]
    }
   ],
   "source": [
    "# Fit the training data\n",
    "sm_lr = sm.Logit(y_train, sm.add_constant(X_train2)).fit()\n",
    "print(sm_lr.summary())"
   ]
  },
  {
   "cell_type": "markdown",
   "metadata": {},
   "source": [
    "### m3 Random Forest"
   ]
  },
  {
   "cell_type": "code",
   "execution_count": null,
   "metadata": {},
   "outputs": [],
   "source": [
    "model_rf = RandomForestClassifier(random_state=SEED, fit_intercept=False, max_iter=500, n_jobs=jobs) "
   ]
  }
 ],
 "metadata": {
  "kernelspec": {
   "display_name": "learn-env",
   "language": "python",
   "name": "learn-env"
  },
  "language_info": {
   "codemirror_mode": {
    "name": "ipython",
    "version": 3
   },
   "file_extension": ".py",
   "mimetype": "text/x-python",
   "name": "python",
   "nbconvert_exporter": "python",
   "pygments_lexer": "ipython3",
   "version": "3.8.5"
  },
  "toc": {
   "base_numbering": 1,
   "nav_menu": {},
   "number_sections": true,
   "sideBar": true,
   "skip_h1_title": false,
   "title_cell": "Table of Contents",
   "title_sidebar": "Contents",
   "toc_cell": false,
   "toc_position": {
    "height": "calc(100% - 180px)",
    "left": "10px",
    "top": "150px",
    "width": "374.188px"
   },
   "toc_section_display": true,
   "toc_window_display": true
  }
 },
 "nbformat": 4,
 "nbformat_minor": 4
}
